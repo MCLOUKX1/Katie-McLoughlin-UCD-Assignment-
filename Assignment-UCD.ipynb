{
 "cells": [
  {
   "cell_type": "code",
   "execution_count": 1,
   "id": "055cfee9",
   "metadata": {},
   "outputs": [],
   "source": [
    "#Katie McLoughlin\n",
    "#Understanding the housing property market in Ireland from 2010 to 2021\n",
    "\n",
    "#Import useful packages to support the script \n",
    "\n",
    "import pandas as pd # Analytical function \n",
    "import numpy as np # Lanugauges for ansyltics  \n",
    "import matplotlib.pyplot as plt #visualisation tool \n",
    "import seaborn as sns#visualisation tool \n",
    "import csv\n"
   ]
  },
  {
   "cell_type": "code",
   "execution_count": 2,
   "id": "47975f21",
   "metadata": {},
   "outputs": [],
   "source": [
    "DS = pd.read_csv(r\"C:\\Users\\mcloukx1\\Downloads\\Assignment-UCD\\Property_2021.csv\") \n",
    "# Import .cvs dataset as DS, short for Dataset\n",
    "# This dataset is from Kaggle.com/datasets\n",
    "# This dataset contains the Irish housing property sales market from 2010 to 2021"
   ]
  },
  {
   "cell_type": "code",
   "execution_count": 3,
   "id": "199cb634",
   "metadata": {},
   "outputs": [
    {
     "data": {
      "text/plain": [
       "(476745, 9)"
      ]
     },
     "execution_count": 3,
     "metadata": {},
     "output_type": "execute_result"
    }
   ],
   "source": [
    "DS.shape\n",
    "#Dataset size, rows 476745 by 9 columns\n",
    "#need to run analysis on dataset to check if all 9 rows contain 476745 rows of data. "
   ]
  },
  {
   "cell_type": "code",
   "execution_count": 4,
   "id": "1b8f9842",
   "metadata": {},
   "outputs": [
    {
     "name": "stdout",
     "output_type": "stream",
     "text": [
      "<class 'pandas.core.frame.DataFrame'>\n",
      "RangeIndex: 476745 entries, 0 to 476744\n",
      "Data columns (total 9 columns):\n",
      " #   Column              Non-Null Count   Dtype  \n",
      "---  ------              --------------   -----  \n",
      " 0   SALE_DATE           476745 non-null  object \n",
      " 1   ADDRESS             476745 non-null  object \n",
      " 2   POSTAL_CODE         89764 non-null   object \n",
      " 3   COUNTY              476745 non-null  object \n",
      " 4   SALE_PRICE          476745 non-null  float64\n",
      " 5   IF_MARKET_PRICE     476745 non-null  int64  \n",
      " 6   IF_VAT_EXCLUDED     476745 non-null  int64  \n",
      " 7   PROPERTY_DESC       476745 non-null  object \n",
      " 8   PROPERTY_SIZE_DESC  52792 non-null   object \n",
      "dtypes: float64(1), int64(2), object(6)\n",
      "memory usage: 32.7+ MB\n"
     ]
    }
   ],
   "source": [
    "DS.info()\n",
    "#print out of the dataset information understand the data more and helps support the analysis\n",
    "# Within the 9 Columns, 7 columns contain all complete data, 476745 entries \n",
    "# 3 variations in data types\n",
    "\n"
   ]
  },
  {
   "cell_type": "code",
   "execution_count": 5,
   "id": "5d40136a",
   "metadata": {},
   "outputs": [
    {
     "data": {
      "text/html": [
       "<div>\n",
       "<style scoped>\n",
       "    .dataframe tbody tr th:only-of-type {\n",
       "        vertical-align: middle;\n",
       "    }\n",
       "\n",
       "    .dataframe tbody tr th {\n",
       "        vertical-align: top;\n",
       "    }\n",
       "\n",
       "    .dataframe thead th {\n",
       "        text-align: right;\n",
       "    }\n",
       "</style>\n",
       "<table border=\"1\" class=\"dataframe\">\n",
       "  <thead>\n",
       "    <tr style=\"text-align: right;\">\n",
       "      <th></th>\n",
       "      <th>SALE_DATE</th>\n",
       "      <th>ADDRESS</th>\n",
       "      <th>POSTAL_CODE</th>\n",
       "      <th>COUNTY</th>\n",
       "      <th>SALE_PRICE</th>\n",
       "      <th>IF_MARKET_PRICE</th>\n",
       "      <th>IF_VAT_EXCLUDED</th>\n",
       "      <th>PROPERTY_DESC</th>\n",
       "      <th>PROPERTY_SIZE_DESC</th>\n",
       "    </tr>\n",
       "  </thead>\n",
       "  <tbody>\n",
       "    <tr>\n",
       "      <th>0</th>\n",
       "      <td>01/01/2010</td>\n",
       "      <td>5 Braemor Drive, Churchtown, Co.Dublin</td>\n",
       "      <td>NaN</td>\n",
       "      <td>Dublin</td>\n",
       "      <td>343000.0</td>\n",
       "      <td>0</td>\n",
       "      <td>0</td>\n",
       "      <td>Second-Hand Dwelling house /Apartment</td>\n",
       "      <td>NaN</td>\n",
       "    </tr>\n",
       "    <tr>\n",
       "      <th>1</th>\n",
       "      <td>03/01/2010</td>\n",
       "      <td>134 Ashewood Walk, Summerhill Lane, Portlaoise</td>\n",
       "      <td>NaN</td>\n",
       "      <td>Laois</td>\n",
       "      <td>185000.0</td>\n",
       "      <td>0</td>\n",
       "      <td>1</td>\n",
       "      <td>New Dwelling house /Apartment</td>\n",
       "      <td>greater than or equal to 38 sq metres and less...</td>\n",
       "    </tr>\n",
       "    <tr>\n",
       "      <th>2</th>\n",
       "      <td>04/01/2010</td>\n",
       "      <td>1 Meadow Avenue, Dundrum, Dublin 14</td>\n",
       "      <td>NaN</td>\n",
       "      <td>Dublin</td>\n",
       "      <td>438500.0</td>\n",
       "      <td>0</td>\n",
       "      <td>0</td>\n",
       "      <td>Second-Hand Dwelling house /Apartment</td>\n",
       "      <td>NaN</td>\n",
       "    </tr>\n",
       "    <tr>\n",
       "      <th>3</th>\n",
       "      <td>04/01/2010</td>\n",
       "      <td>1 The Haven, Mornington</td>\n",
       "      <td>NaN</td>\n",
       "      <td>Meath</td>\n",
       "      <td>400000.0</td>\n",
       "      <td>0</td>\n",
       "      <td>0</td>\n",
       "      <td>Second-Hand Dwelling house /Apartment</td>\n",
       "      <td>NaN</td>\n",
       "    </tr>\n",
       "    <tr>\n",
       "      <th>4</th>\n",
       "      <td>04/01/2010</td>\n",
       "      <td>11 Melville Heights, Kilkenny</td>\n",
       "      <td>NaN</td>\n",
       "      <td>Kilkenny</td>\n",
       "      <td>160000.0</td>\n",
       "      <td>0</td>\n",
       "      <td>0</td>\n",
       "      <td>Second-Hand Dwelling house /Apartment</td>\n",
       "      <td>NaN</td>\n",
       "    </tr>\n",
       "    <tr>\n",
       "      <th>5</th>\n",
       "      <td>04/01/2010</td>\n",
       "      <td>12 Sallymount Avenue, Ranelagh</td>\n",
       "      <td>NaN</td>\n",
       "      <td>Dublin</td>\n",
       "      <td>425000.0</td>\n",
       "      <td>0</td>\n",
       "      <td>0</td>\n",
       "      <td>Second-Hand Dwelling house /Apartment</td>\n",
       "      <td>NaN</td>\n",
       "    </tr>\n",
       "    <tr>\n",
       "      <th>6</th>\n",
       "      <td>04/01/2010</td>\n",
       "      <td>13  Oakleigh Wood, Dooradoyle, Limerick</td>\n",
       "      <td>NaN</td>\n",
       "      <td>Limerick</td>\n",
       "      <td>172500.0</td>\n",
       "      <td>0</td>\n",
       "      <td>0</td>\n",
       "      <td>Second-Hand Dwelling house /Apartment</td>\n",
       "      <td>NaN</td>\n",
       "    </tr>\n",
       "    <tr>\n",
       "      <th>7</th>\n",
       "      <td>04/01/2010</td>\n",
       "      <td>13 The Drive, Chapelstown Gate, Tullow Road</td>\n",
       "      <td>NaN</td>\n",
       "      <td>Carlow</td>\n",
       "      <td>177500.0</td>\n",
       "      <td>0</td>\n",
       "      <td>0</td>\n",
       "      <td>Second-Hand Dwelling house /Apartment</td>\n",
       "      <td>NaN</td>\n",
       "    </tr>\n",
       "    <tr>\n",
       "      <th>8</th>\n",
       "      <td>04/01/2010</td>\n",
       "      <td>15 Carriglawn, Waterpark, Carrigaline</td>\n",
       "      <td>NaN</td>\n",
       "      <td>Cork</td>\n",
       "      <td>180000.0</td>\n",
       "      <td>0</td>\n",
       "      <td>0</td>\n",
       "      <td>Second-Hand Dwelling house /Apartment</td>\n",
       "      <td>NaN</td>\n",
       "    </tr>\n",
       "    <tr>\n",
       "      <th>9</th>\n",
       "      <td>04/01/2010</td>\n",
       "      <td>15a Moore Bay, Kilkee</td>\n",
       "      <td>NaN</td>\n",
       "      <td>Clare</td>\n",
       "      <td>126500.0</td>\n",
       "      <td>0</td>\n",
       "      <td>0</td>\n",
       "      <td>Second-Hand Dwelling house /Apartment</td>\n",
       "      <td>NaN</td>\n",
       "    </tr>\n",
       "    <tr>\n",
       "      <th>10</th>\n",
       "      <td>04/01/2010</td>\n",
       "      <td>16 Aisling Geal, Fr. Russell Road</td>\n",
       "      <td>NaN</td>\n",
       "      <td>Limerick</td>\n",
       "      <td>110000.0</td>\n",
       "      <td>0</td>\n",
       "      <td>0</td>\n",
       "      <td>New Dwelling house /Apartment</td>\n",
       "      <td>greater than or equal to 38 sq metres and less...</td>\n",
       "    </tr>\n",
       "    <tr>\n",
       "      <th>11</th>\n",
       "      <td>04/01/2010</td>\n",
       "      <td>206 Philipsburgh Avenue, Marino, Dublin 3</td>\n",
       "      <td>NaN</td>\n",
       "      <td>Dublin</td>\n",
       "      <td>430000.0</td>\n",
       "      <td>0</td>\n",
       "      <td>0</td>\n",
       "      <td>Second-Hand Dwelling house /Apartment</td>\n",
       "      <td>NaN</td>\n",
       "    </tr>\n",
       "    <tr>\n",
       "      <th>12</th>\n",
       "      <td>04/01/2010</td>\n",
       "      <td>22 Laverna Way, Castleknock, Dublin 15</td>\n",
       "      <td>NaN</td>\n",
       "      <td>Dublin</td>\n",
       "      <td>355000.0</td>\n",
       "      <td>0</td>\n",
       "      <td>0</td>\n",
       "      <td>Second-Hand Dwelling house /Apartment</td>\n",
       "      <td>NaN</td>\n",
       "    </tr>\n",
       "    <tr>\n",
       "      <th>13</th>\n",
       "      <td>04/01/2010</td>\n",
       "      <td>23 Elton Park, Sandycove</td>\n",
       "      <td>NaN</td>\n",
       "      <td>Dublin</td>\n",
       "      <td>1800000.0</td>\n",
       "      <td>0</td>\n",
       "      <td>0</td>\n",
       "      <td>Second-Hand Dwelling house /Apartment</td>\n",
       "      <td>NaN</td>\n",
       "    </tr>\n",
       "    <tr>\n",
       "      <th>14</th>\n",
       "      <td>04/01/2010</td>\n",
       "      <td>25  Lavallin Drive, Whitechurch, Cork</td>\n",
       "      <td>NaN</td>\n",
       "      <td>Cork</td>\n",
       "      <td>352000.0</td>\n",
       "      <td>0</td>\n",
       "      <td>1</td>\n",
       "      <td>New Dwelling house /Apartment</td>\n",
       "      <td>greater than 125 sq metres</td>\n",
       "    </tr>\n",
       "  </tbody>\n",
       "</table>\n",
       "</div>"
      ],
      "text/plain": [
       "     SALE_DATE                                         ADDRESS POSTAL_CODE  \\\n",
       "0   01/01/2010          5 Braemor Drive, Churchtown, Co.Dublin         NaN   \n",
       "1   03/01/2010  134 Ashewood Walk, Summerhill Lane, Portlaoise         NaN   \n",
       "2   04/01/2010             1 Meadow Avenue, Dundrum, Dublin 14         NaN   \n",
       "3   04/01/2010                         1 The Haven, Mornington         NaN   \n",
       "4   04/01/2010                   11 Melville Heights, Kilkenny         NaN   \n",
       "5   04/01/2010                  12 Sallymount Avenue, Ranelagh         NaN   \n",
       "6   04/01/2010         13  Oakleigh Wood, Dooradoyle, Limerick         NaN   \n",
       "7   04/01/2010     13 The Drive, Chapelstown Gate, Tullow Road         NaN   \n",
       "8   04/01/2010           15 Carriglawn, Waterpark, Carrigaline         NaN   \n",
       "9   04/01/2010                           15a Moore Bay, Kilkee         NaN   \n",
       "10  04/01/2010               16 Aisling Geal, Fr. Russell Road         NaN   \n",
       "11  04/01/2010       206 Philipsburgh Avenue, Marino, Dublin 3         NaN   \n",
       "12  04/01/2010          22 Laverna Way, Castleknock, Dublin 15         NaN   \n",
       "13  04/01/2010                        23 Elton Park, Sandycove         NaN   \n",
       "14  04/01/2010           25  Lavallin Drive, Whitechurch, Cork         NaN   \n",
       "\n",
       "      COUNTY  SALE_PRICE  IF_MARKET_PRICE  IF_VAT_EXCLUDED  \\\n",
       "0     Dublin    343000.0                0                0   \n",
       "1      Laois    185000.0                0                1   \n",
       "2     Dublin    438500.0                0                0   \n",
       "3      Meath    400000.0                0                0   \n",
       "4   Kilkenny    160000.0                0                0   \n",
       "5     Dublin    425000.0                0                0   \n",
       "6   Limerick    172500.0                0                0   \n",
       "7     Carlow    177500.0                0                0   \n",
       "8       Cork    180000.0                0                0   \n",
       "9      Clare    126500.0                0                0   \n",
       "10  Limerick    110000.0                0                0   \n",
       "11    Dublin    430000.0                0                0   \n",
       "12    Dublin    355000.0                0                0   \n",
       "13    Dublin   1800000.0                0                0   \n",
       "14      Cork    352000.0                0                1   \n",
       "\n",
       "                            PROPERTY_DESC  \\\n",
       "0   Second-Hand Dwelling house /Apartment   \n",
       "1           New Dwelling house /Apartment   \n",
       "2   Second-Hand Dwelling house /Apartment   \n",
       "3   Second-Hand Dwelling house /Apartment   \n",
       "4   Second-Hand Dwelling house /Apartment   \n",
       "5   Second-Hand Dwelling house /Apartment   \n",
       "6   Second-Hand Dwelling house /Apartment   \n",
       "7   Second-Hand Dwelling house /Apartment   \n",
       "8   Second-Hand Dwelling house /Apartment   \n",
       "9   Second-Hand Dwelling house /Apartment   \n",
       "10          New Dwelling house /Apartment   \n",
       "11  Second-Hand Dwelling house /Apartment   \n",
       "12  Second-Hand Dwelling house /Apartment   \n",
       "13  Second-Hand Dwelling house /Apartment   \n",
       "14          New Dwelling house /Apartment   \n",
       "\n",
       "                                   PROPERTY_SIZE_DESC  \n",
       "0                                                 NaN  \n",
       "1   greater than or equal to 38 sq metres and less...  \n",
       "2                                                 NaN  \n",
       "3                                                 NaN  \n",
       "4                                                 NaN  \n",
       "5                                                 NaN  \n",
       "6                                                 NaN  \n",
       "7                                                 NaN  \n",
       "8                                                 NaN  \n",
       "9                                                 NaN  \n",
       "10  greater than or equal to 38 sq metres and less...  \n",
       "11                                                NaN  \n",
       "12                                                NaN  \n",
       "13                                                NaN  \n",
       "14                         greater than 125 sq metres  "
      ]
     },
     "execution_count": 5,
     "metadata": {},
     "output_type": "execute_result"
    }
   ],
   "source": [
    "DS.head(15) \n",
    "#Printout of the Dataset, first 15 rows for visual of data"
   ]
  },
  {
   "cell_type": "code",
   "execution_count": 6,
   "id": "f7e502b5",
   "metadata": {},
   "outputs": [
    {
     "data": {
      "text/html": [
       "<div>\n",
       "<style scoped>\n",
       "    .dataframe tbody tr th:only-of-type {\n",
       "        vertical-align: middle;\n",
       "    }\n",
       "\n",
       "    .dataframe tbody tr th {\n",
       "        vertical-align: top;\n",
       "    }\n",
       "\n",
       "    .dataframe thead th {\n",
       "        text-align: right;\n",
       "    }\n",
       "</style>\n",
       "<table border=\"1\" class=\"dataframe\">\n",
       "  <thead>\n",
       "    <tr style=\"text-align: right;\">\n",
       "      <th></th>\n",
       "      <th>SALE_DATE</th>\n",
       "      <th>ADDRESS</th>\n",
       "      <th>POSTAL_CODE</th>\n",
       "      <th>COUNTY</th>\n",
       "      <th>SALE_PRICE</th>\n",
       "      <th>IF_MARKET_PRICE</th>\n",
       "      <th>IF_VAT_EXCLUDED</th>\n",
       "      <th>PROPERTY_DESC</th>\n",
       "      <th>PROPERTY_SIZE_DESC</th>\n",
       "    </tr>\n",
       "  </thead>\n",
       "  <tbody>\n",
       "    <tr>\n",
       "      <th>476730</th>\n",
       "      <td>28/05/2021</td>\n",
       "      <td>69 COIS NA HABHAINN, STATION RD, MOATE</td>\n",
       "      <td>NaN</td>\n",
       "      <td>Westmeath</td>\n",
       "      <td>210000.0</td>\n",
       "      <td>0</td>\n",
       "      <td>0</td>\n",
       "      <td>Second-Hand Dwelling house /Apartment</td>\n",
       "      <td>NaN</td>\n",
       "    </tr>\n",
       "    <tr>\n",
       "      <th>476731</th>\n",
       "      <td>28/05/2021</td>\n",
       "      <td>69B ORWELL PARK RISE, DUBLIN 6W</td>\n",
       "      <td>NaN</td>\n",
       "      <td>Dublin</td>\n",
       "      <td>330000.0</td>\n",
       "      <td>1</td>\n",
       "      <td>0</td>\n",
       "      <td>Second-Hand Dwelling house /Apartment</td>\n",
       "      <td>NaN</td>\n",
       "    </tr>\n",
       "    <tr>\n",
       "      <th>476732</th>\n",
       "      <td>28/05/2021</td>\n",
       "      <td>7 AN MULLACH, CUL ARD, CORK</td>\n",
       "      <td>NaN</td>\n",
       "      <td>Cork</td>\n",
       "      <td>258000.0</td>\n",
       "      <td>0</td>\n",
       "      <td>0</td>\n",
       "      <td>Second-Hand Dwelling house /Apartment</td>\n",
       "      <td>NaN</td>\n",
       "    </tr>\n",
       "    <tr>\n",
       "      <th>476733</th>\n",
       "      <td>28/05/2021</td>\n",
       "      <td>7 KILLANE HEIGHTS, EDENDERRY, CO OFFALY</td>\n",
       "      <td>NaN</td>\n",
       "      <td>Offaly</td>\n",
       "      <td>300000.0</td>\n",
       "      <td>0</td>\n",
       "      <td>0</td>\n",
       "      <td>Second-Hand Dwelling house /Apartment</td>\n",
       "      <td>NaN</td>\n",
       "    </tr>\n",
       "    <tr>\n",
       "      <th>476734</th>\n",
       "      <td>28/05/2021</td>\n",
       "      <td>7 ST MARYS TCE, MIDLETON, CORK</td>\n",
       "      <td>NaN</td>\n",
       "      <td>Cork</td>\n",
       "      <td>156000.0</td>\n",
       "      <td>0</td>\n",
       "      <td>0</td>\n",
       "      <td>Second-Hand Dwelling house /Apartment</td>\n",
       "      <td>NaN</td>\n",
       "    </tr>\n",
       "    <tr>\n",
       "      <th>476735</th>\n",
       "      <td>28/05/2021</td>\n",
       "      <td>8 AGHNAHARNA COURT, STRADBALLY RD, SUMMERHILL</td>\n",
       "      <td>NaN</td>\n",
       "      <td>Laois</td>\n",
       "      <td>190000.0</td>\n",
       "      <td>0</td>\n",
       "      <td>0</td>\n",
       "      <td>Second-Hand Dwelling house /Apartment</td>\n",
       "      <td>NaN</td>\n",
       "    </tr>\n",
       "    <tr>\n",
       "      <th>476736</th>\n",
       "      <td>28/05/2021</td>\n",
       "      <td>92 WOODLANDS, DUNLEER, LOUTH</td>\n",
       "      <td>NaN</td>\n",
       "      <td>Louth</td>\n",
       "      <td>221000.0</td>\n",
       "      <td>0</td>\n",
       "      <td>0</td>\n",
       "      <td>Second-Hand Dwelling house /Apartment</td>\n",
       "      <td>NaN</td>\n",
       "    </tr>\n",
       "    <tr>\n",
       "      <th>476737</th>\n",
       "      <td>28/05/2021</td>\n",
       "      <td>BALLINASRAGH, LUSMAGH, BANAGHER</td>\n",
       "      <td>NaN</td>\n",
       "      <td>Offaly</td>\n",
       "      <td>175000.0</td>\n",
       "      <td>0</td>\n",
       "      <td>0</td>\n",
       "      <td>Second-Hand Dwelling house /Apartment</td>\n",
       "      <td>NaN</td>\n",
       "    </tr>\n",
       "    <tr>\n",
       "      <th>476738</th>\n",
       "      <td>28/05/2021</td>\n",
       "      <td>BALLYCAGHAN, KILCOCK, KILDARE</td>\n",
       "      <td>NaN</td>\n",
       "      <td>Kildare</td>\n",
       "      <td>690000.0</td>\n",
       "      <td>0</td>\n",
       "      <td>0</td>\n",
       "      <td>Second-Hand Dwelling house /Apartment</td>\n",
       "      <td>NaN</td>\n",
       "    </tr>\n",
       "    <tr>\n",
       "      <th>476739</th>\n",
       "      <td>28/05/2021</td>\n",
       "      <td>BELLEVILLE, ARTHURSTOWN, NEW ROSS</td>\n",
       "      <td>NaN</td>\n",
       "      <td>Wexford</td>\n",
       "      <td>250000.0</td>\n",
       "      <td>0</td>\n",
       "      <td>0</td>\n",
       "      <td>Second-Hand Dwelling house /Apartment</td>\n",
       "      <td>NaN</td>\n",
       "    </tr>\n",
       "    <tr>\n",
       "      <th>476740</th>\n",
       "      <td>28/05/2021</td>\n",
       "      <td>GRANGE STORES, GRANGE, MULLINGAR</td>\n",
       "      <td>NaN</td>\n",
       "      <td>Westmeath</td>\n",
       "      <td>150000.0</td>\n",
       "      <td>0</td>\n",
       "      <td>0</td>\n",
       "      <td>Second-Hand Dwelling house /Apartment</td>\n",
       "      <td>NaN</td>\n",
       "    </tr>\n",
       "    <tr>\n",
       "      <th>476741</th>\n",
       "      <td>28/05/2021</td>\n",
       "      <td>MAIN STREET, LOWER BORRIS, BORRIS</td>\n",
       "      <td>NaN</td>\n",
       "      <td>Carlow</td>\n",
       "      <td>170000.0</td>\n",
       "      <td>1</td>\n",
       "      <td>0</td>\n",
       "      <td>Second-Hand Dwelling house /Apartment</td>\n",
       "      <td>NaN</td>\n",
       "    </tr>\n",
       "    <tr>\n",
       "      <th>476742</th>\n",
       "      <td>28/05/2021</td>\n",
       "      <td>MULTYFARNHAM, WESTMEATH</td>\n",
       "      <td>NaN</td>\n",
       "      <td>Westmeath</td>\n",
       "      <td>175000.0</td>\n",
       "      <td>0</td>\n",
       "      <td>0</td>\n",
       "      <td>Second-Hand Dwelling house /Apartment</td>\n",
       "      <td>NaN</td>\n",
       "    </tr>\n",
       "    <tr>\n",
       "      <th>476743</th>\n",
       "      <td>28/05/2021</td>\n",
       "      <td>NO 2 RIVERLODGE, SHRONE, GLENGARIFF</td>\n",
       "      <td>NaN</td>\n",
       "      <td>Cork</td>\n",
       "      <td>240000.0</td>\n",
       "      <td>0</td>\n",
       "      <td>0</td>\n",
       "      <td>Second-Hand Dwelling house /Apartment</td>\n",
       "      <td>NaN</td>\n",
       "    </tr>\n",
       "    <tr>\n",
       "      <th>476744</th>\n",
       "      <td>28/05/2021</td>\n",
       "      <td>RABANE, KILL, COOTEHILL</td>\n",
       "      <td>NaN</td>\n",
       "      <td>Cavan</td>\n",
       "      <td>47000.0</td>\n",
       "      <td>0</td>\n",
       "      <td>0</td>\n",
       "      <td>Second-Hand Dwelling house /Apartment</td>\n",
       "      <td>NaN</td>\n",
       "    </tr>\n",
       "  </tbody>\n",
       "</table>\n",
       "</div>"
      ],
      "text/plain": [
       "         SALE_DATE                                        ADDRESS POSTAL_CODE  \\\n",
       "476730  28/05/2021         69 COIS NA HABHAINN, STATION RD, MOATE         NaN   \n",
       "476731  28/05/2021                69B ORWELL PARK RISE, DUBLIN 6W         NaN   \n",
       "476732  28/05/2021                    7 AN MULLACH, CUL ARD, CORK         NaN   \n",
       "476733  28/05/2021        7 KILLANE HEIGHTS, EDENDERRY, CO OFFALY         NaN   \n",
       "476734  28/05/2021                 7 ST MARYS TCE, MIDLETON, CORK         NaN   \n",
       "476735  28/05/2021  8 AGHNAHARNA COURT, STRADBALLY RD, SUMMERHILL         NaN   \n",
       "476736  28/05/2021                   92 WOODLANDS, DUNLEER, LOUTH         NaN   \n",
       "476737  28/05/2021                BALLINASRAGH, LUSMAGH, BANAGHER         NaN   \n",
       "476738  28/05/2021                  BALLYCAGHAN, KILCOCK, KILDARE         NaN   \n",
       "476739  28/05/2021              BELLEVILLE, ARTHURSTOWN, NEW ROSS         NaN   \n",
       "476740  28/05/2021               GRANGE STORES, GRANGE, MULLINGAR         NaN   \n",
       "476741  28/05/2021              MAIN STREET, LOWER BORRIS, BORRIS         NaN   \n",
       "476742  28/05/2021                        MULTYFARNHAM, WESTMEATH         NaN   \n",
       "476743  28/05/2021            NO 2 RIVERLODGE, SHRONE, GLENGARIFF         NaN   \n",
       "476744  28/05/2021                        RABANE, KILL, COOTEHILL         NaN   \n",
       "\n",
       "           COUNTY  SALE_PRICE  IF_MARKET_PRICE  IF_VAT_EXCLUDED  \\\n",
       "476730  Westmeath    210000.0                0                0   \n",
       "476731     Dublin    330000.0                1                0   \n",
       "476732       Cork    258000.0                0                0   \n",
       "476733     Offaly    300000.0                0                0   \n",
       "476734       Cork    156000.0                0                0   \n",
       "476735      Laois    190000.0                0                0   \n",
       "476736      Louth    221000.0                0                0   \n",
       "476737     Offaly    175000.0                0                0   \n",
       "476738    Kildare    690000.0                0                0   \n",
       "476739    Wexford    250000.0                0                0   \n",
       "476740  Westmeath    150000.0                0                0   \n",
       "476741     Carlow    170000.0                1                0   \n",
       "476742  Westmeath    175000.0                0                0   \n",
       "476743       Cork    240000.0                0                0   \n",
       "476744      Cavan     47000.0                0                0   \n",
       "\n",
       "                                PROPERTY_DESC PROPERTY_SIZE_DESC  \n",
       "476730  Second-Hand Dwelling house /Apartment                NaN  \n",
       "476731  Second-Hand Dwelling house /Apartment                NaN  \n",
       "476732  Second-Hand Dwelling house /Apartment                NaN  \n",
       "476733  Second-Hand Dwelling house /Apartment                NaN  \n",
       "476734  Second-Hand Dwelling house /Apartment                NaN  \n",
       "476735  Second-Hand Dwelling house /Apartment                NaN  \n",
       "476736  Second-Hand Dwelling house /Apartment                NaN  \n",
       "476737  Second-Hand Dwelling house /Apartment                NaN  \n",
       "476738  Second-Hand Dwelling house /Apartment                NaN  \n",
       "476739  Second-Hand Dwelling house /Apartment                NaN  \n",
       "476740  Second-Hand Dwelling house /Apartment                NaN  \n",
       "476741  Second-Hand Dwelling house /Apartment                NaN  \n",
       "476742  Second-Hand Dwelling house /Apartment                NaN  \n",
       "476743  Second-Hand Dwelling house /Apartment                NaN  \n",
       "476744  Second-Hand Dwelling house /Apartment                NaN  "
      ]
     },
     "execution_count": 6,
     "metadata": {},
     "output_type": "execute_result"
    }
   ],
   "source": [
    "DS.tail(15) \n",
    "#Printout of the Dataset, Last 15 rows for visual of data"
   ]
  },
  {
   "cell_type": "code",
   "execution_count": 7,
   "id": "5384968b",
   "metadata": {},
   "outputs": [
    {
     "data": {
      "text/plain": [
       "Index(['SALE_DATE', 'ADDRESS', 'POSTAL_CODE', 'COUNTY', 'SALE_PRICE',\n",
       "       'IF_MARKET_PRICE', 'IF_VAT_EXCLUDED', 'PROPERTY_DESC',\n",
       "       'PROPERTY_SIZE_DESC'],\n",
       "      dtype='object')"
      ]
     },
     "execution_count": 7,
     "metadata": {},
     "output_type": "execute_result"
    }
   ],
   "source": [
    "DS.columns\n",
    "#Dataset Columns names "
   ]
  },
  {
   "cell_type": "code",
   "execution_count": 8,
   "id": "b54d548d",
   "metadata": {},
   "outputs": [
    {
     "data": {
      "text/html": [
       "<div>\n",
       "<style scoped>\n",
       "    .dataframe tbody tr th:only-of-type {\n",
       "        vertical-align: middle;\n",
       "    }\n",
       "\n",
       "    .dataframe tbody tr th {\n",
       "        vertical-align: top;\n",
       "    }\n",
       "\n",
       "    .dataframe thead th {\n",
       "        text-align: right;\n",
       "    }\n",
       "</style>\n",
       "<table border=\"1\" class=\"dataframe\">\n",
       "  <thead>\n",
       "    <tr style=\"text-align: right;\">\n",
       "      <th></th>\n",
       "      <th>SALE_PRICE</th>\n",
       "      <th>IF_MARKET_PRICE</th>\n",
       "      <th>IF_VAT_EXCLUDED</th>\n",
       "    </tr>\n",
       "  </thead>\n",
       "  <tbody>\n",
       "    <tr>\n",
       "      <th>count</th>\n",
       "      <td>4.767450e+05</td>\n",
       "      <td>476745.000000</td>\n",
       "      <td>476745.000000</td>\n",
       "    </tr>\n",
       "    <tr>\n",
       "      <th>mean</th>\n",
       "      <td>2.590403e+05</td>\n",
       "      <td>0.048984</td>\n",
       "      <td>0.159618</td>\n",
       "    </tr>\n",
       "    <tr>\n",
       "      <th>std</th>\n",
       "      <td>8.526791e+05</td>\n",
       "      <td>0.215835</td>\n",
       "      <td>0.366252</td>\n",
       "    </tr>\n",
       "    <tr>\n",
       "      <th>min</th>\n",
       "      <td>5.030530e+03</td>\n",
       "      <td>0.000000</td>\n",
       "      <td>0.000000</td>\n",
       "    </tr>\n",
       "    <tr>\n",
       "      <th>25%</th>\n",
       "      <td>1.150000e+05</td>\n",
       "      <td>0.000000</td>\n",
       "      <td>0.000000</td>\n",
       "    </tr>\n",
       "    <tr>\n",
       "      <th>50%</th>\n",
       "      <td>1.950000e+05</td>\n",
       "      <td>0.000000</td>\n",
       "      <td>0.000000</td>\n",
       "    </tr>\n",
       "    <tr>\n",
       "      <th>75%</th>\n",
       "      <td>3.000000e+05</td>\n",
       "      <td>0.000000</td>\n",
       "      <td>0.000000</td>\n",
       "    </tr>\n",
       "    <tr>\n",
       "      <th>max</th>\n",
       "      <td>1.701428e+08</td>\n",
       "      <td>1.000000</td>\n",
       "      <td>1.000000</td>\n",
       "    </tr>\n",
       "  </tbody>\n",
       "</table>\n",
       "</div>"
      ],
      "text/plain": [
       "         SALE_PRICE  IF_MARKET_PRICE  IF_VAT_EXCLUDED\n",
       "count  4.767450e+05    476745.000000    476745.000000\n",
       "mean   2.590403e+05         0.048984         0.159618\n",
       "std    8.526791e+05         0.215835         0.366252\n",
       "min    5.030530e+03         0.000000         0.000000\n",
       "25%    1.150000e+05         0.000000         0.000000\n",
       "50%    1.950000e+05         0.000000         0.000000\n",
       "75%    3.000000e+05         0.000000         0.000000\n",
       "max    1.701428e+08         1.000000         1.000000"
      ]
     },
     "execution_count": 8,
     "metadata": {},
     "output_type": "execute_result"
    }
   ],
   "source": [
    "DS.describe()\n",
    "#anslytics of dataset "
   ]
  },
  {
   "cell_type": "code",
   "execution_count": 9,
   "id": "3b30da6c",
   "metadata": {},
   "outputs": [],
   "source": [
    "DS1= DS[['SALE_DATE', 'ADDRESS', 'COUNTY', 'SALE_PRICE','IF_MARKET_PRICE', 'IF_VAT_EXCLUDED', 'PROPERTY_DESC']]\n",
    "#Filtered DS to new dataset called DS1. \n",
    "#Filtered out columns 'POSTAL_CODE' and 'PROPERTY_SIZE_DESC' as they didn't contain all rows of data and i do not require them as part of my analysis. \n",
    "#NSufficient information for the 'POSTAL Code' in Column 'ADDRESS' AND 'COUNTY'. Sufficient information for 'PROPERTY_SIZE_DESC' in column 'PROPERTY_DESC'\n",
    "\n"
   ]
  },
  {
   "cell_type": "code",
   "execution_count": 10,
   "id": "07eb0a83",
   "metadata": {},
   "outputs": [
    {
     "data": {
      "text/html": [
       "<div>\n",
       "<style scoped>\n",
       "    .dataframe tbody tr th:only-of-type {\n",
       "        vertical-align: middle;\n",
       "    }\n",
       "\n",
       "    .dataframe tbody tr th {\n",
       "        vertical-align: top;\n",
       "    }\n",
       "\n",
       "    .dataframe thead th {\n",
       "        text-align: right;\n",
       "    }\n",
       "</style>\n",
       "<table border=\"1\" class=\"dataframe\">\n",
       "  <thead>\n",
       "    <tr style=\"text-align: right;\">\n",
       "      <th></th>\n",
       "      <th>SALE_DATE</th>\n",
       "      <th>ADDRESS</th>\n",
       "      <th>COUNTY</th>\n",
       "      <th>SALE_PRICE</th>\n",
       "      <th>IF_MARKET_PRICE</th>\n",
       "      <th>IF_VAT_EXCLUDED</th>\n",
       "      <th>PROPERTY_DESC</th>\n",
       "    </tr>\n",
       "  </thead>\n",
       "  <tbody>\n",
       "    <tr>\n",
       "      <th>0</th>\n",
       "      <td>01/01/2010</td>\n",
       "      <td>5 Braemor Drive, Churchtown, Co.Dublin</td>\n",
       "      <td>Dublin</td>\n",
       "      <td>343000.0</td>\n",
       "      <td>0</td>\n",
       "      <td>0</td>\n",
       "      <td>Second-Hand Dwelling house /Apartment</td>\n",
       "    </tr>\n",
       "    <tr>\n",
       "      <th>1</th>\n",
       "      <td>03/01/2010</td>\n",
       "      <td>134 Ashewood Walk, Summerhill Lane, Portlaoise</td>\n",
       "      <td>Laois</td>\n",
       "      <td>185000.0</td>\n",
       "      <td>0</td>\n",
       "      <td>1</td>\n",
       "      <td>New Dwelling house /Apartment</td>\n",
       "    </tr>\n",
       "    <tr>\n",
       "      <th>2</th>\n",
       "      <td>04/01/2010</td>\n",
       "      <td>1 Meadow Avenue, Dundrum, Dublin 14</td>\n",
       "      <td>Dublin</td>\n",
       "      <td>438500.0</td>\n",
       "      <td>0</td>\n",
       "      <td>0</td>\n",
       "      <td>Second-Hand Dwelling house /Apartment</td>\n",
       "    </tr>\n",
       "    <tr>\n",
       "      <th>3</th>\n",
       "      <td>04/01/2010</td>\n",
       "      <td>1 The Haven, Mornington</td>\n",
       "      <td>Meath</td>\n",
       "      <td>400000.0</td>\n",
       "      <td>0</td>\n",
       "      <td>0</td>\n",
       "      <td>Second-Hand Dwelling house /Apartment</td>\n",
       "    </tr>\n",
       "    <tr>\n",
       "      <th>4</th>\n",
       "      <td>04/01/2010</td>\n",
       "      <td>11 Melville Heights, Kilkenny</td>\n",
       "      <td>Kilkenny</td>\n",
       "      <td>160000.0</td>\n",
       "      <td>0</td>\n",
       "      <td>0</td>\n",
       "      <td>Second-Hand Dwelling house /Apartment</td>\n",
       "    </tr>\n",
       "  </tbody>\n",
       "</table>\n",
       "</div>"
      ],
      "text/plain": [
       "    SALE_DATE                                         ADDRESS    COUNTY  \\\n",
       "0  01/01/2010          5 Braemor Drive, Churchtown, Co.Dublin    Dublin   \n",
       "1  03/01/2010  134 Ashewood Walk, Summerhill Lane, Portlaoise     Laois   \n",
       "2  04/01/2010             1 Meadow Avenue, Dundrum, Dublin 14    Dublin   \n",
       "3  04/01/2010                         1 The Haven, Mornington     Meath   \n",
       "4  04/01/2010                   11 Melville Heights, Kilkenny  Kilkenny   \n",
       "\n",
       "   SALE_PRICE  IF_MARKET_PRICE  IF_VAT_EXCLUDED  \\\n",
       "0    343000.0                0                0   \n",
       "1    185000.0                0                1   \n",
       "2    438500.0                0                0   \n",
       "3    400000.0                0                0   \n",
       "4    160000.0                0                0   \n",
       "\n",
       "                           PROPERTY_DESC  \n",
       "0  Second-Hand Dwelling house /Apartment  \n",
       "1          New Dwelling house /Apartment  \n",
       "2  Second-Hand Dwelling house /Apartment  \n",
       "3  Second-Hand Dwelling house /Apartment  \n",
       "4  Second-Hand Dwelling house /Apartment  "
      ]
     },
     "execution_count": 10,
     "metadata": {},
     "output_type": "execute_result"
    }
   ],
   "source": [
    "DS1.head(5)\n",
    "#visual of new dataset DS1"
   ]
  },
  {
   "cell_type": "code",
   "execution_count": 11,
   "id": "8a56d6b3",
   "metadata": {},
   "outputs": [
    {
     "data": {
      "text/plain": [
       "(476745, 7)"
      ]
     },
     "execution_count": 11,
     "metadata": {},
     "output_type": "execute_result"
    }
   ],
   "source": [
    "DS1.shape\n",
    "#Review of new dataset DS1"
   ]
  },
  {
   "cell_type": "code",
   "execution_count": 12,
   "id": "642a367e",
   "metadata": {},
   "outputs": [
    {
     "name": "stdout",
     "output_type": "stream",
     "text": [
      "<class 'pandas.core.frame.DataFrame'>\n",
      "RangeIndex: 476745 entries, 0 to 476744\n",
      "Data columns (total 7 columns):\n",
      " #   Column           Non-Null Count   Dtype  \n",
      "---  ------           --------------   -----  \n",
      " 0   SALE_DATE        476745 non-null  object \n",
      " 1   ADDRESS          476745 non-null  object \n",
      " 2   COUNTY           476745 non-null  object \n",
      " 3   SALE_PRICE       476745 non-null  float64\n",
      " 4   IF_MARKET_PRICE  476745 non-null  int64  \n",
      " 5   IF_VAT_EXCLUDED  476745 non-null  int64  \n",
      " 6   PROPERTY_DESC    476745 non-null  object \n",
      "dtypes: float64(1), int64(2), object(4)\n",
      "memory usage: 25.5+ MB\n"
     ]
    }
   ],
   "source": [
    "DS1.info()\n",
    "#Review of new dataset DS1"
   ]
  },
  {
   "cell_type": "code",
   "execution_count": 13,
   "id": "ad9a6fad",
   "metadata": {},
   "outputs": [],
   "source": [
    "#Selection of '1' IF_VAT_EXCLUDED values, and add value of 0.135 (13.5%) x SALE_PRICE\n",
    "#https://reddycharlton.ie/insights/vat-on-property/ reference for VAT on protperty -\n",
    "# https://www.revenue.ie/en/vat/vat-rates/historical-vat-rates/index.aspx"
   ]
  },
  {
   "cell_type": "code",
   "execution_count": 14,
   "id": "65acd605",
   "metadata": {},
   "outputs": [],
   "source": [
    "Property_Market_2010_2021 = DS1.copy()\n",
    "#created a copy of DS1"
   ]
  },
  {
   "cell_type": "code",
   "execution_count": 15,
   "id": "d6d8503d",
   "metadata": {},
   "outputs": [
    {
     "data": {
      "text/plain": [
       "True"
      ]
     },
     "execution_count": 15,
     "metadata": {},
     "output_type": "execute_result"
    }
   ],
   "source": [
    "DS1.equals(Property_Market_2010_2021)\n",
    "#checking the new dataset \"Property_Market_2010_2021\"is a copy of \"DS1\""
   ]
  },
  {
   "cell_type": "code",
   "execution_count": 16,
   "id": "eef6bf3f",
   "metadata": {},
   "outputs": [
    {
     "data": {
      "text/plain": [
       "0         False\n",
       "1         False\n",
       "2         False\n",
       "3         False\n",
       "4         False\n",
       "          ...  \n",
       "476740    False\n",
       "476741    False\n",
       "476742    False\n",
       "476743    False\n",
       "476744    False\n",
       "Length: 476745, dtype: bool"
      ]
     },
     "execution_count": 16,
     "metadata": {},
     "output_type": "execute_result"
    }
   ],
   "source": [
    "Property_Market_2010_2021.duplicated()\n",
    "#checking all rows of data for duplicates in dataset\n",
    "#no duplicate rows identified in dataset \"Property_Market_2010_2021\""
   ]
  },
  {
   "cell_type": "code",
   "execution_count": 17,
   "id": "7a6d078d",
   "metadata": {},
   "outputs": [
    {
     "data": {
      "text/html": [
       "<div>\n",
       "<style scoped>\n",
       "    .dataframe tbody tr th:only-of-type {\n",
       "        vertical-align: middle;\n",
       "    }\n",
       "\n",
       "    .dataframe tbody tr th {\n",
       "        vertical-align: top;\n",
       "    }\n",
       "\n",
       "    .dataframe thead th {\n",
       "        text-align: right;\n",
       "    }\n",
       "</style>\n",
       "<table border=\"1\" class=\"dataframe\">\n",
       "  <thead>\n",
       "    <tr style=\"text-align: right;\">\n",
       "      <th></th>\n",
       "      <th>SALE_DATE</th>\n",
       "      <th>ADDRESS</th>\n",
       "      <th>COUNTY</th>\n",
       "      <th>SALE_PRICE</th>\n",
       "      <th>IF_MARKET_PRICE</th>\n",
       "      <th>IF_VAT_EXCLUDED</th>\n",
       "      <th>PROPERTY_DESC</th>\n",
       "    </tr>\n",
       "  </thead>\n",
       "  <tbody>\n",
       "    <tr>\n",
       "      <th>0</th>\n",
       "      <td>False</td>\n",
       "      <td>False</td>\n",
       "      <td>False</td>\n",
       "      <td>False</td>\n",
       "      <td>False</td>\n",
       "      <td>False</td>\n",
       "      <td>False</td>\n",
       "    </tr>\n",
       "    <tr>\n",
       "      <th>1</th>\n",
       "      <td>False</td>\n",
       "      <td>False</td>\n",
       "      <td>False</td>\n",
       "      <td>False</td>\n",
       "      <td>False</td>\n",
       "      <td>False</td>\n",
       "      <td>False</td>\n",
       "    </tr>\n",
       "    <tr>\n",
       "      <th>2</th>\n",
       "      <td>False</td>\n",
       "      <td>False</td>\n",
       "      <td>False</td>\n",
       "      <td>False</td>\n",
       "      <td>False</td>\n",
       "      <td>False</td>\n",
       "      <td>False</td>\n",
       "    </tr>\n",
       "    <tr>\n",
       "      <th>3</th>\n",
       "      <td>False</td>\n",
       "      <td>False</td>\n",
       "      <td>False</td>\n",
       "      <td>False</td>\n",
       "      <td>False</td>\n",
       "      <td>False</td>\n",
       "      <td>False</td>\n",
       "    </tr>\n",
       "    <tr>\n",
       "      <th>4</th>\n",
       "      <td>False</td>\n",
       "      <td>False</td>\n",
       "      <td>False</td>\n",
       "      <td>False</td>\n",
       "      <td>False</td>\n",
       "      <td>False</td>\n",
       "      <td>False</td>\n",
       "    </tr>\n",
       "    <tr>\n",
       "      <th>...</th>\n",
       "      <td>...</td>\n",
       "      <td>...</td>\n",
       "      <td>...</td>\n",
       "      <td>...</td>\n",
       "      <td>...</td>\n",
       "      <td>...</td>\n",
       "      <td>...</td>\n",
       "    </tr>\n",
       "    <tr>\n",
       "      <th>476740</th>\n",
       "      <td>False</td>\n",
       "      <td>False</td>\n",
       "      <td>False</td>\n",
       "      <td>False</td>\n",
       "      <td>False</td>\n",
       "      <td>False</td>\n",
       "      <td>False</td>\n",
       "    </tr>\n",
       "    <tr>\n",
       "      <th>476741</th>\n",
       "      <td>False</td>\n",
       "      <td>False</td>\n",
       "      <td>False</td>\n",
       "      <td>False</td>\n",
       "      <td>False</td>\n",
       "      <td>False</td>\n",
       "      <td>False</td>\n",
       "    </tr>\n",
       "    <tr>\n",
       "      <th>476742</th>\n",
       "      <td>False</td>\n",
       "      <td>False</td>\n",
       "      <td>False</td>\n",
       "      <td>False</td>\n",
       "      <td>False</td>\n",
       "      <td>False</td>\n",
       "      <td>False</td>\n",
       "    </tr>\n",
       "    <tr>\n",
       "      <th>476743</th>\n",
       "      <td>False</td>\n",
       "      <td>False</td>\n",
       "      <td>False</td>\n",
       "      <td>False</td>\n",
       "      <td>False</td>\n",
       "      <td>False</td>\n",
       "      <td>False</td>\n",
       "    </tr>\n",
       "    <tr>\n",
       "      <th>476744</th>\n",
       "      <td>False</td>\n",
       "      <td>False</td>\n",
       "      <td>False</td>\n",
       "      <td>False</td>\n",
       "      <td>False</td>\n",
       "      <td>False</td>\n",
       "      <td>False</td>\n",
       "    </tr>\n",
       "  </tbody>\n",
       "</table>\n",
       "<p>476745 rows × 7 columns</p>\n",
       "</div>"
      ],
      "text/plain": [
       "        SALE_DATE  ADDRESS  COUNTY  SALE_PRICE  IF_MARKET_PRICE  \\\n",
       "0           False    False   False       False            False   \n",
       "1           False    False   False       False            False   \n",
       "2           False    False   False       False            False   \n",
       "3           False    False   False       False            False   \n",
       "4           False    False   False       False            False   \n",
       "...           ...      ...     ...         ...              ...   \n",
       "476740      False    False   False       False            False   \n",
       "476741      False    False   False       False            False   \n",
       "476742      False    False   False       False            False   \n",
       "476743      False    False   False       False            False   \n",
       "476744      False    False   False       False            False   \n",
       "\n",
       "        IF_VAT_EXCLUDED  PROPERTY_DESC  \n",
       "0                 False          False  \n",
       "1                 False          False  \n",
       "2                 False          False  \n",
       "3                 False          False  \n",
       "4                 False          False  \n",
       "...                 ...            ...  \n",
       "476740            False          False  \n",
       "476741            False          False  \n",
       "476742            False          False  \n",
       "476743            False          False  \n",
       "476744            False          False  \n",
       "\n",
       "[476745 rows x 7 columns]"
      ]
     },
     "execution_count": 17,
     "metadata": {},
     "output_type": "execute_result"
    }
   ],
   "source": [
    "Property_Market_2010_2021.isnull() \n",
    "#checking that all datacells contain infomation \n",
    "#all datacells in \"Property_Market_2010_2021\" contain infomation for analysis"
   ]
  },
  {
   "cell_type": "code",
   "execution_count": 18,
   "id": "7ac84562",
   "metadata": {},
   "outputs": [
    {
     "data": {
      "text/plain": [
       "SALE_DATE          0\n",
       "ADDRESS            0\n",
       "COUNTY             0\n",
       "SALE_PRICE         0\n",
       "IF_MARKET_PRICE    0\n",
       "IF_VAT_EXCLUDED    0\n",
       "PROPERTY_DESC      0\n",
       "dtype: int64"
      ]
     },
     "execution_count": 18,
     "metadata": {},
     "output_type": "execute_result"
    }
   ],
   "source": [
    "Property_Market_2010_2021.isnull().sum() \n",
    "#run report to determine if any \n",
    "#no missing datacells "
   ]
  },
  {
   "cell_type": "code",
   "execution_count": 19,
   "id": "43d23c78",
   "metadata": {},
   "outputs": [
    {
     "data": {
      "text/plain": [
       "Index(['SALE_DATE', 'ADDRESS', 'COUNTY', 'SALE_PRICE', 'IF_MARKET_PRICE',\n",
       "       'IF_VAT_EXCLUDED', 'PROPERTY_DESC'],\n",
       "      dtype='object')"
      ]
     },
     "execution_count": 19,
     "metadata": {},
     "output_type": "execute_result"
    }
   ],
   "source": [
    "Property_Market_2010_2021.columns\n",
    "#review of dataset columns names "
   ]
  },
  {
   "cell_type": "code",
   "execution_count": 20,
   "id": "e19bb3ba",
   "metadata": {},
   "outputs": [
    {
     "name": "stdout",
     "output_type": "stream",
     "text": [
      "<class 'pandas.core.frame.DataFrame'>\n",
      "RangeIndex: 476745 entries, 0 to 476744\n",
      "Data columns (total 7 columns):\n",
      " #   Column           Non-Null Count   Dtype  \n",
      "---  ------           --------------   -----  \n",
      " 0   SALE_DATE        476745 non-null  object \n",
      " 1   ADDRESS          476745 non-null  object \n",
      " 2   COUNTY           476745 non-null  object \n",
      " 3   SALE_PRICE       476745 non-null  float64\n",
      " 4   IF_MARKET_PRICE  476745 non-null  int64  \n",
      " 5   IF_VAT_EXCLUDED  476745 non-null  int64  \n",
      " 6   PROPERTY_DESC    476745 non-null  object \n",
      "dtypes: float64(1), int64(2), object(4)\n",
      "memory usage: 25.5+ MB\n"
     ]
    }
   ],
   "source": [
    "Property_Market_2010_2021.info()\n",
    "#review of dataset infomation "
   ]
  },
  {
   "cell_type": "code",
   "execution_count": 21,
   "id": "182b777f",
   "metadata": {},
   "outputs": [
    {
     "data": {
      "text/html": [
       "<div>\n",
       "<style scoped>\n",
       "    .dataframe tbody tr th:only-of-type {\n",
       "        vertical-align: middle;\n",
       "    }\n",
       "\n",
       "    .dataframe tbody tr th {\n",
       "        vertical-align: top;\n",
       "    }\n",
       "\n",
       "    .dataframe thead th {\n",
       "        text-align: right;\n",
       "    }\n",
       "</style>\n",
       "<table border=\"1\" class=\"dataframe\">\n",
       "  <thead>\n",
       "    <tr style=\"text-align: right;\">\n",
       "      <th></th>\n",
       "      <th>SALE_DATE</th>\n",
       "      <th>ADDRESS</th>\n",
       "      <th>COUNTY</th>\n",
       "      <th>SALE_PRICE</th>\n",
       "      <th>IF_MARKET_PRICE</th>\n",
       "      <th>IF_VAT_EXCLUDED</th>\n",
       "      <th>PROPERTY_DESC</th>\n",
       "    </tr>\n",
       "  </thead>\n",
       "  <tbody>\n",
       "    <tr>\n",
       "      <th>0</th>\n",
       "      <td>01/01/2010</td>\n",
       "      <td>5 Braemor Drive, Churchtown, Co.Dublin</td>\n",
       "      <td>Dublin</td>\n",
       "      <td>343000.0</td>\n",
       "      <td>0</td>\n",
       "      <td>0</td>\n",
       "      <td>Second-Hand Dwelling house /Apartment</td>\n",
       "    </tr>\n",
       "    <tr>\n",
       "      <th>1</th>\n",
       "      <td>03/01/2010</td>\n",
       "      <td>134 Ashewood Walk, Summerhill Lane, Portlaoise</td>\n",
       "      <td>Laois</td>\n",
       "      <td>185000.0</td>\n",
       "      <td>0</td>\n",
       "      <td>1</td>\n",
       "      <td>New Dwelling house /Apartment</td>\n",
       "    </tr>\n",
       "  </tbody>\n",
       "</table>\n",
       "</div>"
      ],
      "text/plain": [
       "    SALE_DATE                                         ADDRESS  COUNTY  \\\n",
       "0  01/01/2010          5 Braemor Drive, Churchtown, Co.Dublin  Dublin   \n",
       "1  03/01/2010  134 Ashewood Walk, Summerhill Lane, Portlaoise   Laois   \n",
       "\n",
       "   SALE_PRICE  IF_MARKET_PRICE  IF_VAT_EXCLUDED  \\\n",
       "0    343000.0                0                0   \n",
       "1    185000.0                0                1   \n",
       "\n",
       "                           PROPERTY_DESC  \n",
       "0  Second-Hand Dwelling house /Apartment  \n",
       "1          New Dwelling house /Apartment  "
      ]
     },
     "execution_count": 21,
     "metadata": {},
     "output_type": "execute_result"
    }
   ],
   "source": [
    "Property_Market_2010_2021.head(2) \n",
    "#review of dataset "
   ]
  },
  {
   "cell_type": "code",
   "execution_count": 22,
   "id": "c7eeeea1",
   "metadata": {},
   "outputs": [
    {
     "data": {
      "text/plain": [
       "0         False\n",
       "1          True\n",
       "2         False\n",
       "3         False\n",
       "4         False\n",
       "          ...  \n",
       "476740    False\n",
       "476741    False\n",
       "476742    False\n",
       "476743    False\n",
       "476744    False\n",
       "Name: IF_VAT_EXCLUDED, Length: 476745, dtype: bool"
      ]
     },
     "execution_count": 22,
     "metadata": {},
     "output_type": "execute_result"
    }
   ],
   "source": [
    "Property_Market_2010_2021['IF_VAT_EXCLUDED'] == 1\n",
    "#couldnt get IF_VAT_EXCLUDED = 1 to be identied for a count \n",
    "\n",
    "\n",
    "    \n",
    "\n"
   ]
  },
  {
   "cell_type": "code",
   "execution_count": 23,
   "id": "584c29f3",
   "metadata": {},
   "outputs": [
    {
     "data": {
      "text/plain": [
       "(476745, 7)"
      ]
     },
     "execution_count": 23,
     "metadata": {},
     "output_type": "execute_result"
    }
   ],
   "source": [
    "Property_Market_2010_2021.drop(Property_Market_2010_2021.index[Property_Market_2010_2021['IF_VAT_EXCLUDED'] == \"1\"])\n",
    "\n",
    "Property_Market_2010_2021.shape\n",
    "#I couldnt get IF_VAT_EXCLUDED = 1 to be dropped"
   ]
  },
  {
   "cell_type": "code",
   "execution_count": 24,
   "id": "9a8072ee",
   "metadata": {},
   "outputs": [
    {
     "data": {
      "text/html": [
       "<div>\n",
       "<style scoped>\n",
       "    .dataframe tbody tr th:only-of-type {\n",
       "        vertical-align: middle;\n",
       "    }\n",
       "\n",
       "    .dataframe tbody tr th {\n",
       "        vertical-align: top;\n",
       "    }\n",
       "\n",
       "    .dataframe thead th {\n",
       "        text-align: right;\n",
       "    }\n",
       "</style>\n",
       "<table border=\"1\" class=\"dataframe\">\n",
       "  <thead>\n",
       "    <tr style=\"text-align: right;\">\n",
       "      <th></th>\n",
       "      <th>SALE_DATE</th>\n",
       "      <th>ADDRESS</th>\n",
       "      <th>COUNTY</th>\n",
       "      <th>SALE_PRICE</th>\n",
       "      <th>IF_MARKET_PRICE</th>\n",
       "      <th>IF_VAT_EXCLUDED</th>\n",
       "      <th>PROPERTY_DESC</th>\n",
       "    </tr>\n",
       "  </thead>\n",
       "  <tbody>\n",
       "    <tr>\n",
       "      <th>0</th>\n",
       "      <td>01/01/2010</td>\n",
       "      <td>5 Braemor Drive, Churchtown, Co.Dublin</td>\n",
       "      <td>Dublin</td>\n",
       "      <td>343000.0</td>\n",
       "      <td>0</td>\n",
       "      <td>0</td>\n",
       "      <td>Second-Hand Dwelling house /Apartment</td>\n",
       "    </tr>\n",
       "    <tr>\n",
       "      <th>1</th>\n",
       "      <td>03/01/2010</td>\n",
       "      <td>134 Ashewood Walk, Summerhill Lane, Portlaoise</td>\n",
       "      <td>Laois</td>\n",
       "      <td>185000.0</td>\n",
       "      <td>0</td>\n",
       "      <td>1</td>\n",
       "      <td>New Dwelling house /Apartment</td>\n",
       "    </tr>\n",
       "    <tr>\n",
       "      <th>2</th>\n",
       "      <td>04/01/2010</td>\n",
       "      <td>1 Meadow Avenue, Dundrum, Dublin 14</td>\n",
       "      <td>Dublin</td>\n",
       "      <td>438500.0</td>\n",
       "      <td>0</td>\n",
       "      <td>0</td>\n",
       "      <td>Second-Hand Dwelling house /Apartment</td>\n",
       "    </tr>\n",
       "    <tr>\n",
       "      <th>3</th>\n",
       "      <td>04/01/2010</td>\n",
       "      <td>1 The Haven, Mornington</td>\n",
       "      <td>Meath</td>\n",
       "      <td>400000.0</td>\n",
       "      <td>0</td>\n",
       "      <td>0</td>\n",
       "      <td>Second-Hand Dwelling house /Apartment</td>\n",
       "    </tr>\n",
       "    <tr>\n",
       "      <th>4</th>\n",
       "      <td>04/01/2010</td>\n",
       "      <td>11 Melville Heights, Kilkenny</td>\n",
       "      <td>Kilkenny</td>\n",
       "      <td>160000.0</td>\n",
       "      <td>0</td>\n",
       "      <td>0</td>\n",
       "      <td>Second-Hand Dwelling house /Apartment</td>\n",
       "    </tr>\n",
       "  </tbody>\n",
       "</table>\n",
       "</div>"
      ],
      "text/plain": [
       "    SALE_DATE                                         ADDRESS    COUNTY  \\\n",
       "0  01/01/2010          5 Braemor Drive, Churchtown, Co.Dublin    Dublin   \n",
       "1  03/01/2010  134 Ashewood Walk, Summerhill Lane, Portlaoise     Laois   \n",
       "2  04/01/2010             1 Meadow Avenue, Dundrum, Dublin 14    Dublin   \n",
       "3  04/01/2010                         1 The Haven, Mornington     Meath   \n",
       "4  04/01/2010                   11 Melville Heights, Kilkenny  Kilkenny   \n",
       "\n",
       "   SALE_PRICE  IF_MARKET_PRICE  IF_VAT_EXCLUDED  \\\n",
       "0    343000.0                0                0   \n",
       "1    185000.0                0                1   \n",
       "2    438500.0                0                0   \n",
       "3    400000.0                0                0   \n",
       "4    160000.0                0                0   \n",
       "\n",
       "                           PROPERTY_DESC  \n",
       "0  Second-Hand Dwelling house /Apartment  \n",
       "1          New Dwelling house /Apartment  \n",
       "2  Second-Hand Dwelling house /Apartment  \n",
       "3  Second-Hand Dwelling house /Apartment  \n",
       "4  Second-Hand Dwelling house /Apartment  "
      ]
     },
     "execution_count": 24,
     "metadata": {},
     "output_type": "execute_result"
    }
   ],
   "source": [
    "prop2 = Property_Market_2010_2021.copy()\n",
    "prop2.head()\n",
    "#I couldnt get IF_VAT_EXCLUDED = 1 to be dropped"
   ]
  },
  {
   "cell_type": "code",
   "execution_count": 25,
   "id": "c04db081",
   "metadata": {
    "scrolled": true
   },
   "outputs": [
    {
     "data": {
      "text/plain": [
       "Index(['SALE_DATE', 'ADDRESS', 'COUNTY', 'SALE_PRICE', 'IF_MARKET_PRICE',\n",
       "       'IF_VAT_EXCLUDED', 'PROPERTY_DESC', 'YEAR'],\n",
       "      dtype='object')"
      ]
     },
     "execution_count": 25,
     "metadata": {},
     "output_type": "execute_result"
    }
   ],
   "source": [
    "Property_Market_2010_2021['YEAR'] = pd.to_datetime(Property_Market_2010_2021['SALE_DATE'], errors='coerce')\n",
    "#Property_Market_2010_2021['YEAR'] = Property_Market_2010_2021['SALE_DATE'].dt.strftime('%Y')\n",
    "Property_Market_2010_2021.columns\n",
    "#created a new column called \"YEAR\" to contain the year data from \"SALE_DATE\""
   ]
  },
  {
   "cell_type": "code",
   "execution_count": 26,
   "id": "0156c4db",
   "metadata": {},
   "outputs": [
    {
     "data": {
      "text/html": [
       "<div>\n",
       "<style scoped>\n",
       "    .dataframe tbody tr th:only-of-type {\n",
       "        vertical-align: middle;\n",
       "    }\n",
       "\n",
       "    .dataframe tbody tr th {\n",
       "        vertical-align: top;\n",
       "    }\n",
       "\n",
       "    .dataframe thead th {\n",
       "        text-align: right;\n",
       "    }\n",
       "</style>\n",
       "<table border=\"1\" class=\"dataframe\">\n",
       "  <thead>\n",
       "    <tr style=\"text-align: right;\">\n",
       "      <th></th>\n",
       "      <th>SALE_DATE</th>\n",
       "      <th>ADDRESS</th>\n",
       "      <th>COUNTY</th>\n",
       "      <th>SALE_PRICE</th>\n",
       "      <th>IF_MARKET_PRICE</th>\n",
       "      <th>IF_VAT_EXCLUDED</th>\n",
       "      <th>PROPERTY_DESC</th>\n",
       "      <th>YEAR</th>\n",
       "    </tr>\n",
       "  </thead>\n",
       "  <tbody>\n",
       "    <tr>\n",
       "      <th>0</th>\n",
       "      <td>01/01/2010</td>\n",
       "      <td>5 Braemor Drive, Churchtown, Co.Dublin</td>\n",
       "      <td>Dublin</td>\n",
       "      <td>343000.0</td>\n",
       "      <td>0</td>\n",
       "      <td>0</td>\n",
       "      <td>Second-Hand Dwelling house /Apartment</td>\n",
       "      <td>2010-01-01</td>\n",
       "    </tr>\n",
       "    <tr>\n",
       "      <th>1</th>\n",
       "      <td>03/01/2010</td>\n",
       "      <td>134 Ashewood Walk, Summerhill Lane, Portlaoise</td>\n",
       "      <td>Laois</td>\n",
       "      <td>185000.0</td>\n",
       "      <td>0</td>\n",
       "      <td>1</td>\n",
       "      <td>New Dwelling house /Apartment</td>\n",
       "      <td>2010-03-01</td>\n",
       "    </tr>\n",
       "    <tr>\n",
       "      <th>2</th>\n",
       "      <td>04/01/2010</td>\n",
       "      <td>1 Meadow Avenue, Dundrum, Dublin 14</td>\n",
       "      <td>Dublin</td>\n",
       "      <td>438500.0</td>\n",
       "      <td>0</td>\n",
       "      <td>0</td>\n",
       "      <td>Second-Hand Dwelling house /Apartment</td>\n",
       "      <td>2010-04-01</td>\n",
       "    </tr>\n",
       "    <tr>\n",
       "      <th>3</th>\n",
       "      <td>04/01/2010</td>\n",
       "      <td>1 The Haven, Mornington</td>\n",
       "      <td>Meath</td>\n",
       "      <td>400000.0</td>\n",
       "      <td>0</td>\n",
       "      <td>0</td>\n",
       "      <td>Second-Hand Dwelling house /Apartment</td>\n",
       "      <td>2010-04-01</td>\n",
       "    </tr>\n",
       "    <tr>\n",
       "      <th>4</th>\n",
       "      <td>04/01/2010</td>\n",
       "      <td>11 Melville Heights, Kilkenny</td>\n",
       "      <td>Kilkenny</td>\n",
       "      <td>160000.0</td>\n",
       "      <td>0</td>\n",
       "      <td>0</td>\n",
       "      <td>Second-Hand Dwelling house /Apartment</td>\n",
       "      <td>2010-04-01</td>\n",
       "    </tr>\n",
       "  </tbody>\n",
       "</table>\n",
       "</div>"
      ],
      "text/plain": [
       "    SALE_DATE                                         ADDRESS    COUNTY  \\\n",
       "0  01/01/2010          5 Braemor Drive, Churchtown, Co.Dublin    Dublin   \n",
       "1  03/01/2010  134 Ashewood Walk, Summerhill Lane, Portlaoise     Laois   \n",
       "2  04/01/2010             1 Meadow Avenue, Dundrum, Dublin 14    Dublin   \n",
       "3  04/01/2010                         1 The Haven, Mornington     Meath   \n",
       "4  04/01/2010                   11 Melville Heights, Kilkenny  Kilkenny   \n",
       "\n",
       "   SALE_PRICE  IF_MARKET_PRICE  IF_VAT_EXCLUDED  \\\n",
       "0    343000.0                0                0   \n",
       "1    185000.0                0                1   \n",
       "2    438500.0                0                0   \n",
       "3    400000.0                0                0   \n",
       "4    160000.0                0                0   \n",
       "\n",
       "                           PROPERTY_DESC       YEAR  \n",
       "0  Second-Hand Dwelling house /Apartment 2010-01-01  \n",
       "1          New Dwelling house /Apartment 2010-03-01  \n",
       "2  Second-Hand Dwelling house /Apartment 2010-04-01  \n",
       "3  Second-Hand Dwelling house /Apartment 2010-04-01  \n",
       "4  Second-Hand Dwelling house /Apartment 2010-04-01  "
      ]
     },
     "execution_count": 26,
     "metadata": {},
     "output_type": "execute_result"
    }
   ],
   "source": [
    "Property_Market_2010_2021.head()\n",
    "#visual of date format in Table format\n",
    "#Date format in new Column \"YEAR\" in YYYY-MM-DD format. Format required is YYYY"
   ]
  },
  {
   "cell_type": "code",
   "execution_count": 27,
   "id": "bb50392c",
   "metadata": {},
   "outputs": [],
   "source": [
    "Property_Market_2010_2021['YEAR'] = pd.to_datetime(Property_Market_2010_2021.YEAR, format='%Y')\n",
    "#2nd method to get new column called \"YEAR\" to contain the year data from \"SALE_DATE\", YYYY"
   ]
  },
  {
   "cell_type": "code",
   "execution_count": 28,
   "id": "0f663d8b",
   "metadata": {},
   "outputs": [
    {
     "data": {
      "text/html": [
       "<div>\n",
       "<style scoped>\n",
       "    .dataframe tbody tr th:only-of-type {\n",
       "        vertical-align: middle;\n",
       "    }\n",
       "\n",
       "    .dataframe tbody tr th {\n",
       "        vertical-align: top;\n",
       "    }\n",
       "\n",
       "    .dataframe thead th {\n",
       "        text-align: right;\n",
       "    }\n",
       "</style>\n",
       "<table border=\"1\" class=\"dataframe\">\n",
       "  <thead>\n",
       "    <tr style=\"text-align: right;\">\n",
       "      <th></th>\n",
       "      <th>SALE_DATE</th>\n",
       "      <th>ADDRESS</th>\n",
       "      <th>COUNTY</th>\n",
       "      <th>SALE_PRICE</th>\n",
       "      <th>IF_MARKET_PRICE</th>\n",
       "      <th>IF_VAT_EXCLUDED</th>\n",
       "      <th>PROPERTY_DESC</th>\n",
       "      <th>YEAR</th>\n",
       "    </tr>\n",
       "  </thead>\n",
       "  <tbody>\n",
       "    <tr>\n",
       "      <th>0</th>\n",
       "      <td>01/01/2010</td>\n",
       "      <td>5 Braemor Drive, Churchtown, Co.Dublin</td>\n",
       "      <td>Dublin</td>\n",
       "      <td>343000.0</td>\n",
       "      <td>0</td>\n",
       "      <td>0</td>\n",
       "      <td>Second-Hand Dwelling house /Apartment</td>\n",
       "      <td>2010-01-01</td>\n",
       "    </tr>\n",
       "    <tr>\n",
       "      <th>1</th>\n",
       "      <td>03/01/2010</td>\n",
       "      <td>134 Ashewood Walk, Summerhill Lane, Portlaoise</td>\n",
       "      <td>Laois</td>\n",
       "      <td>185000.0</td>\n",
       "      <td>0</td>\n",
       "      <td>1</td>\n",
       "      <td>New Dwelling house /Apartment</td>\n",
       "      <td>2010-03-01</td>\n",
       "    </tr>\n",
       "    <tr>\n",
       "      <th>2</th>\n",
       "      <td>04/01/2010</td>\n",
       "      <td>1 Meadow Avenue, Dundrum, Dublin 14</td>\n",
       "      <td>Dublin</td>\n",
       "      <td>438500.0</td>\n",
       "      <td>0</td>\n",
       "      <td>0</td>\n",
       "      <td>Second-Hand Dwelling house /Apartment</td>\n",
       "      <td>2010-04-01</td>\n",
       "    </tr>\n",
       "    <tr>\n",
       "      <th>3</th>\n",
       "      <td>04/01/2010</td>\n",
       "      <td>1 The Haven, Mornington</td>\n",
       "      <td>Meath</td>\n",
       "      <td>400000.0</td>\n",
       "      <td>0</td>\n",
       "      <td>0</td>\n",
       "      <td>Second-Hand Dwelling house /Apartment</td>\n",
       "      <td>2010-04-01</td>\n",
       "    </tr>\n",
       "    <tr>\n",
       "      <th>4</th>\n",
       "      <td>04/01/2010</td>\n",
       "      <td>11 Melville Heights, Kilkenny</td>\n",
       "      <td>Kilkenny</td>\n",
       "      <td>160000.0</td>\n",
       "      <td>0</td>\n",
       "      <td>0</td>\n",
       "      <td>Second-Hand Dwelling house /Apartment</td>\n",
       "      <td>2010-04-01</td>\n",
       "    </tr>\n",
       "  </tbody>\n",
       "</table>\n",
       "</div>"
      ],
      "text/plain": [
       "    SALE_DATE                                         ADDRESS    COUNTY  \\\n",
       "0  01/01/2010          5 Braemor Drive, Churchtown, Co.Dublin    Dublin   \n",
       "1  03/01/2010  134 Ashewood Walk, Summerhill Lane, Portlaoise     Laois   \n",
       "2  04/01/2010             1 Meadow Avenue, Dundrum, Dublin 14    Dublin   \n",
       "3  04/01/2010                         1 The Haven, Mornington     Meath   \n",
       "4  04/01/2010                   11 Melville Heights, Kilkenny  Kilkenny   \n",
       "\n",
       "   SALE_PRICE  IF_MARKET_PRICE  IF_VAT_EXCLUDED  \\\n",
       "0    343000.0                0                0   \n",
       "1    185000.0                0                1   \n",
       "2    438500.0                0                0   \n",
       "3    400000.0                0                0   \n",
       "4    160000.0                0                0   \n",
       "\n",
       "                           PROPERTY_DESC       YEAR  \n",
       "0  Second-Hand Dwelling house /Apartment 2010-01-01  \n",
       "1          New Dwelling house /Apartment 2010-03-01  \n",
       "2  Second-Hand Dwelling house /Apartment 2010-04-01  \n",
       "3  Second-Hand Dwelling house /Apartment 2010-04-01  \n",
       "4  Second-Hand Dwelling house /Apartment 2010-04-01  "
      ]
     },
     "execution_count": 28,
     "metadata": {},
     "output_type": "execute_result"
    }
   ],
   "source": [
    "Property_Market_2010_2021.head()\n",
    "#visual of date format in Table format\n",
    "#Date format in new Column \"YEAR\" in YYYY-MM-DD format. Format required is YYYY"
   ]
  },
  {
   "cell_type": "code",
   "execution_count": 29,
   "id": "b6199f03",
   "metadata": {},
   "outputs": [],
   "source": [
    "Property_Market_2010_2021['YEAR'] = Property_Market_2010_2021['YEAR'].dt.strftime('%Y')\n",
    "#3rd method to get new column called \"YEAR\" to contain the year data from \"SALE_DATE\", YYYY"
   ]
  },
  {
   "cell_type": "code",
   "execution_count": 30,
   "id": "365b3f5b",
   "metadata": {},
   "outputs": [
    {
     "data": {
      "text/html": [
       "<div>\n",
       "<style scoped>\n",
       "    .dataframe tbody tr th:only-of-type {\n",
       "        vertical-align: middle;\n",
       "    }\n",
       "\n",
       "    .dataframe tbody tr th {\n",
       "        vertical-align: top;\n",
       "    }\n",
       "\n",
       "    .dataframe thead th {\n",
       "        text-align: right;\n",
       "    }\n",
       "</style>\n",
       "<table border=\"1\" class=\"dataframe\">\n",
       "  <thead>\n",
       "    <tr style=\"text-align: right;\">\n",
       "      <th></th>\n",
       "      <th>SALE_DATE</th>\n",
       "      <th>ADDRESS</th>\n",
       "      <th>COUNTY</th>\n",
       "      <th>SALE_PRICE</th>\n",
       "      <th>IF_MARKET_PRICE</th>\n",
       "      <th>IF_VAT_EXCLUDED</th>\n",
       "      <th>PROPERTY_DESC</th>\n",
       "      <th>YEAR</th>\n",
       "    </tr>\n",
       "  </thead>\n",
       "  <tbody>\n",
       "    <tr>\n",
       "      <th>0</th>\n",
       "      <td>01/01/2010</td>\n",
       "      <td>5 Braemor Drive, Churchtown, Co.Dublin</td>\n",
       "      <td>Dublin</td>\n",
       "      <td>343000.0</td>\n",
       "      <td>0</td>\n",
       "      <td>0</td>\n",
       "      <td>Second-Hand Dwelling house /Apartment</td>\n",
       "      <td>2010</td>\n",
       "    </tr>\n",
       "    <tr>\n",
       "      <th>1</th>\n",
       "      <td>03/01/2010</td>\n",
       "      <td>134 Ashewood Walk, Summerhill Lane, Portlaoise</td>\n",
       "      <td>Laois</td>\n",
       "      <td>185000.0</td>\n",
       "      <td>0</td>\n",
       "      <td>1</td>\n",
       "      <td>New Dwelling house /Apartment</td>\n",
       "      <td>2010</td>\n",
       "    </tr>\n",
       "    <tr>\n",
       "      <th>2</th>\n",
       "      <td>04/01/2010</td>\n",
       "      <td>1 Meadow Avenue, Dundrum, Dublin 14</td>\n",
       "      <td>Dublin</td>\n",
       "      <td>438500.0</td>\n",
       "      <td>0</td>\n",
       "      <td>0</td>\n",
       "      <td>Second-Hand Dwelling house /Apartment</td>\n",
       "      <td>2010</td>\n",
       "    </tr>\n",
       "    <tr>\n",
       "      <th>3</th>\n",
       "      <td>04/01/2010</td>\n",
       "      <td>1 The Haven, Mornington</td>\n",
       "      <td>Meath</td>\n",
       "      <td>400000.0</td>\n",
       "      <td>0</td>\n",
       "      <td>0</td>\n",
       "      <td>Second-Hand Dwelling house /Apartment</td>\n",
       "      <td>2010</td>\n",
       "    </tr>\n",
       "    <tr>\n",
       "      <th>4</th>\n",
       "      <td>04/01/2010</td>\n",
       "      <td>11 Melville Heights, Kilkenny</td>\n",
       "      <td>Kilkenny</td>\n",
       "      <td>160000.0</td>\n",
       "      <td>0</td>\n",
       "      <td>0</td>\n",
       "      <td>Second-Hand Dwelling house /Apartment</td>\n",
       "      <td>2010</td>\n",
       "    </tr>\n",
       "  </tbody>\n",
       "</table>\n",
       "</div>"
      ],
      "text/plain": [
       "    SALE_DATE                                         ADDRESS    COUNTY  \\\n",
       "0  01/01/2010          5 Braemor Drive, Churchtown, Co.Dublin    Dublin   \n",
       "1  03/01/2010  134 Ashewood Walk, Summerhill Lane, Portlaoise     Laois   \n",
       "2  04/01/2010             1 Meadow Avenue, Dundrum, Dublin 14    Dublin   \n",
       "3  04/01/2010                         1 The Haven, Mornington     Meath   \n",
       "4  04/01/2010                   11 Melville Heights, Kilkenny  Kilkenny   \n",
       "\n",
       "   SALE_PRICE  IF_MARKET_PRICE  IF_VAT_EXCLUDED  \\\n",
       "0    343000.0                0                0   \n",
       "1    185000.0                0                1   \n",
       "2    438500.0                0                0   \n",
       "3    400000.0                0                0   \n",
       "4    160000.0                0                0   \n",
       "\n",
       "                           PROPERTY_DESC  YEAR  \n",
       "0  Second-Hand Dwelling house /Apartment  2010  \n",
       "1          New Dwelling house /Apartment  2010  \n",
       "2  Second-Hand Dwelling house /Apartment  2010  \n",
       "3  Second-Hand Dwelling house /Apartment  2010  \n",
       "4  Second-Hand Dwelling house /Apartment  2010  "
      ]
     },
     "execution_count": 30,
     "metadata": {},
     "output_type": "execute_result"
    }
   ],
   "source": [
    "Property_Market_2010_2021.head()\n",
    "#visual of date format in Table format\n",
    "#Date format in new Column \"YEAR\" is YYYY"
   ]
  },
  {
   "cell_type": "code",
   "execution_count": 31,
   "id": "24dbf3b5",
   "metadata": {},
   "outputs": [
    {
     "name": "stdout",
     "output_type": "stream",
     "text": [
      "SALE_DATE\n",
      "ADDRESS\n",
      "COUNTY\n",
      "SALE_PRICE\n",
      "IF_MARKET_PRICE\n",
      "IF_VAT_EXCLUDED\n",
      "PROPERTY_DESC\n",
      "YEAR\n"
     ]
    }
   ],
   "source": [
    "for IF_VAT_EXCLUDED in Property_Market_2010_2021 : \n",
    "    print(IF_VAT_EXCLUDED)\n",
    "    \n",
    "    \n"
   ]
  },
  {
   "cell_type": "code",
   "execution_count": 32,
   "id": "32e68810",
   "metadata": {},
   "outputs": [
    {
     "data": {
      "text/html": [
       "<div>\n",
       "<style scoped>\n",
       "    .dataframe tbody tr th:only-of-type {\n",
       "        vertical-align: middle;\n",
       "    }\n",
       "\n",
       "    .dataframe tbody tr th {\n",
       "        vertical-align: top;\n",
       "    }\n",
       "\n",
       "    .dataframe thead th {\n",
       "        text-align: right;\n",
       "    }\n",
       "</style>\n",
       "<table border=\"1\" class=\"dataframe\">\n",
       "  <thead>\n",
       "    <tr style=\"text-align: right;\">\n",
       "      <th></th>\n",
       "      <th>SALE_DATE</th>\n",
       "      <th>ADDRESS</th>\n",
       "      <th>COUNTY</th>\n",
       "      <th>SALE_PRICE</th>\n",
       "      <th>IF_MARKET_PRICE</th>\n",
       "      <th>IF_VAT_EXCLUDED</th>\n",
       "      <th>PROPERTY_DESC</th>\n",
       "      <th>YEAR</th>\n",
       "      <th>SALE_PRICE_2</th>\n",
       "    </tr>\n",
       "  </thead>\n",
       "  <tbody>\n",
       "    <tr>\n",
       "      <th>0</th>\n",
       "      <td>01/01/2010</td>\n",
       "      <td>5 Braemor Drive, Churchtown, Co.Dublin</td>\n",
       "      <td>Dublin</td>\n",
       "      <td>343000.0</td>\n",
       "      <td>0</td>\n",
       "      <td>0</td>\n",
       "      <td>Second-Hand Dwelling house /Apartment</td>\n",
       "      <td>2010</td>\n",
       "      <td>0</td>\n",
       "    </tr>\n",
       "    <tr>\n",
       "      <th>1</th>\n",
       "      <td>03/01/2010</td>\n",
       "      <td>134 Ashewood Walk, Summerhill Lane, Portlaoise</td>\n",
       "      <td>Laois</td>\n",
       "      <td>185000.0</td>\n",
       "      <td>0</td>\n",
       "      <td>1</td>\n",
       "      <td>New Dwelling house /Apartment</td>\n",
       "      <td>2010</td>\n",
       "      <td>0</td>\n",
       "    </tr>\n",
       "    <tr>\n",
       "      <th>2</th>\n",
       "      <td>04/01/2010</td>\n",
       "      <td>1 Meadow Avenue, Dundrum, Dublin 14</td>\n",
       "      <td>Dublin</td>\n",
       "      <td>438500.0</td>\n",
       "      <td>0</td>\n",
       "      <td>0</td>\n",
       "      <td>Second-Hand Dwelling house /Apartment</td>\n",
       "      <td>2010</td>\n",
       "      <td>0</td>\n",
       "    </tr>\n",
       "    <tr>\n",
       "      <th>3</th>\n",
       "      <td>04/01/2010</td>\n",
       "      <td>1 The Haven, Mornington</td>\n",
       "      <td>Meath</td>\n",
       "      <td>400000.0</td>\n",
       "      <td>0</td>\n",
       "      <td>0</td>\n",
       "      <td>Second-Hand Dwelling house /Apartment</td>\n",
       "      <td>2010</td>\n",
       "      <td>0</td>\n",
       "    </tr>\n",
       "    <tr>\n",
       "      <th>4</th>\n",
       "      <td>04/01/2010</td>\n",
       "      <td>11 Melville Heights, Kilkenny</td>\n",
       "      <td>Kilkenny</td>\n",
       "      <td>160000.0</td>\n",
       "      <td>0</td>\n",
       "      <td>0</td>\n",
       "      <td>Second-Hand Dwelling house /Apartment</td>\n",
       "      <td>2010</td>\n",
       "      <td>0</td>\n",
       "    </tr>\n",
       "  </tbody>\n",
       "</table>\n",
       "</div>"
      ],
      "text/plain": [
       "    SALE_DATE                                         ADDRESS    COUNTY  \\\n",
       "0  01/01/2010          5 Braemor Drive, Churchtown, Co.Dublin    Dublin   \n",
       "1  03/01/2010  134 Ashewood Walk, Summerhill Lane, Portlaoise     Laois   \n",
       "2  04/01/2010             1 Meadow Avenue, Dundrum, Dublin 14    Dublin   \n",
       "3  04/01/2010                         1 The Haven, Mornington     Meath   \n",
       "4  04/01/2010                   11 Melville Heights, Kilkenny  Kilkenny   \n",
       "\n",
       "   SALE_PRICE  IF_MARKET_PRICE  IF_VAT_EXCLUDED  \\\n",
       "0    343000.0                0                0   \n",
       "1    185000.0                0                1   \n",
       "2    438500.0                0                0   \n",
       "3    400000.0                0                0   \n",
       "4    160000.0                0                0   \n",
       "\n",
       "                           PROPERTY_DESC  YEAR  SALE_PRICE_2  \n",
       "0  Second-Hand Dwelling house /Apartment  2010             0  \n",
       "1          New Dwelling house /Apartment  2010             0  \n",
       "2  Second-Hand Dwelling house /Apartment  2010             0  \n",
       "3  Second-Hand Dwelling house /Apartment  2010             0  \n",
       "4  Second-Hand Dwelling house /Apartment  2010             0  "
      ]
     },
     "execution_count": 32,
     "metadata": {},
     "output_type": "execute_result"
    }
   ],
   "source": [
    "Property_Market_2010_2021['SALE_PRICE_2'] =0 \n",
    "Property_Market_2010_2021.head()\n",
    "#created a new column containing SALE_PRICE_2 to calculate the IF_VAT_EXCLUDED of assumed value of 13% on top of SALE_PRICE"
   ]
  },
  {
   "cell_type": "code",
   "execution_count": 33,
   "id": "bbd63033",
   "metadata": {},
   "outputs": [],
   "source": [
    "#Method trying to create column SALE_PRICE_2 to contain SALE_PRICE IF_VAT_EXCLUDED = 1 and IF_VAT_EXCLUDED = 0 to contain SALE_PRICE * 1.13, 13% VAT added to the sale price\n",
    "\n",
    "#if Property_Market_2010_2021['IF_VAT_EXCLUDED'] == a.bool(1) :\n",
    " #   Property_Market_2010_2021['SALE_PRICE_2'] = Property_Market_2010_2021['SALE_PRICE'] * 1.13\n",
    "  #  Property_Market_2010_2021.loc[Property_Market_2010_2021['IF_VAT_EXCLUDED'] = '1', Property_Market_2010_2021['SALE_PRICE'] = 'SALE_PRICE' * 1.13]\n",
    "   # Property_Market_2010_2021.head()\n",
    "\n",
    "#for Property_Market_2010_2021['IF_VAT_EXCLUDED'] in Property_Market_2010_2021:\n",
    " #   if Property_Market_2010_2021[Property_Market_2010_2021['IF_VAT_EXCLUDED'] == 1]:\n",
    "  #      SALE_PRICE_2 = Property_Market_2010_2021['SALE_PRICE']*1.13\n",
    "\n",
    "\n",
    "\n",
    "#Property_Market_2010_2021.head()"
   ]
  },
  {
   "cell_type": "code",
   "execution_count": 34,
   "id": "2fdafd9a",
   "metadata": {},
   "outputs": [],
   "source": [
    "#Method trying to create column SALE_PRICE_2 to contain SALE_PRICE IF_VAT_EXCLUDED = 1 and IF_VAT_EXCLUDED = 0 to contain SALE_PRICE * 1.13, 13% VAT added to the sale price\n",
    "\n",
    "#for Property_Market_2010_2021['IF_VAT_EXCLUDED'] in Property_Market_2010_2021 \n",
    "  #  if Property_Market_2010_2021[Property_Market_2010_2021['IF_VAT_EXCLUDED'] = '1'].any() :\n",
    " #       SALE_PRICE_2 = Property_Market_2010_2021['SALE_PRICE'] * 1.13\n",
    "\n",
    "\n",
    "\n",
    "#Property_Market_2010_2021.head()"
   ]
  },
  {
   "cell_type": "code",
   "execution_count": 35,
   "id": "8e061ce1",
   "metadata": {},
   "outputs": [],
   "source": [
    "#Method trying to create column SALE_PRICE_2 to contain SALE_PRICE IF_VAT_EXCLUDED = 1 and IF_VAT_EXCLUDED = 0 to contain SALE_PRICE * 1.13, 13% VAT added to the sale price\n",
    "\n",
    "#def SALE_PRICE_2(SALE_PRICE)\n",
    " #   if SALE_PRICE == '1'\n",
    "  #    return   SALE_PRICE = SALE_PRICE * 1.13\n",
    "   # else \n",
    "    #    return SALE_PRICE = SALE_PRICE\n",
    "#Property_Market_2010_2021.loc[Property_Market_2010_2021['IF_VAT_EXCLUDED'] == '1', \n",
    " #       Property_Market_2010_2021['SALE_PRICE_2']] = Property_Market_2010_2021['SALE_PRICE'] * 1.13\n",
    "    \n",
    "    \n",
    "    \n",
    "    \n",
    "#prop_drop = [\"1\"] \n",
    "#property_02 = Property_Market_2010_2021[~Property_Market_2010_2021[\"IF_VAT_EXCLUDED\"].\n",
    "#                          str.contains(\"|\".join(prop_drop))]\n",
    "#\n",
    "#property_02.head(9)"
   ]
  },
  {
   "cell_type": "code",
   "execution_count": 36,
   "id": "91311166",
   "metadata": {},
   "outputs": [],
   "source": [
    "#Method trying to create column SALE_PRICE_2 to contain SALE_PRICE IF_VAT_EXCLUDED = 1 and IF_VAT_EXCLUDED = 0 to contain SALE_PRICE * 1.13, 13% VAT added to the sale price\n",
    "\n",
    "#Property_Market_2010_2021 = Property_Market_2010_2021.drop(Property_Market_2010_2021[IF_VAT_EXCLUDED.score == 1].index)"
   ]
  },
  {
   "cell_type": "code",
   "execution_count": 37,
   "id": "32972c18",
   "metadata": {},
   "outputs": [],
   "source": [
    "#Method trying to create column SALE_PRICE_2 to contain SALE_PRICE IF_VAT_EXCLUDED = 1 and IF_VAT_EXCLUDED = 0 to contain SALE_PRICE * 1.13, 13% VAT added to the sale price\n",
    "\n",
    "#prop_drop = str(\"0\")\n",
    "#property_03 = Property_Market_2010_2021[~Property_Market_2010_2021[\"IF_VAT_EXCLUDED\"].\n",
    " #                         str.contains(\"|\".join(prop_drop))]  "
   ]
  },
  {
   "cell_type": "code",
   "execution_count": 38,
   "id": "50e73163",
   "metadata": {},
   "outputs": [],
   "source": [
    "#property_03.head(9)\n"
   ]
  },
  {
   "cell_type": "code",
   "execution_count": 39,
   "id": "f7137a64",
   "metadata": {},
   "outputs": [],
   "source": [
    "#Method trying to create column SALE_PRICE_2 to contain SALE_PRICE IF_VAT_EXCLUDED = 1 and IF_VAT_EXCLUDED = 0 to contain SALE_PRICE * 1.13, 13% VAT added to the sale price\n",
    "\n",
    "#if Property_Market_2010_2021['IF_VAT_EXCLUDED'] == 0 :\n",
    "#        Property_Market_2010_2021['SALE_PRICE_2'] = Property_Market_2010_2021['SALE_PRICE']\n",
    "#else: Property_Market_2010_2021['SALE_PRICE_2'] = Property_Market_2010_2021['SALE_PRICE'] * 1.13]\n",
    "\n",
    "#Property_Market_2010_2021.head(9)"
   ]
  },
  {
   "cell_type": "code",
   "execution_count": 40,
   "id": "d4b87782",
   "metadata": {},
   "outputs": [],
   "source": [
    "#Method trying to create column SALE_PRICE_2 to contain SALE_PRICE IF_VAT_EXCLUDED = 1 and IF_VAT_EXCLUDED = 0 to contain SALE_PRICE * 1.13, 13% VAT added to the sale price\n",
    "\n",
    "#Property_Market_2010_2021['SALE_PRICE_2'] = Property_Market_2010_2021.apply(\n",
    " #   lambda x: x['SALE_PRICE'] * 1.13 \n",
    "  #  if x['IF_VAT_EXCLUDED']=='1' \n",
    "   # else x['SALE_PRICE'],)"
   ]
  },
  {
   "cell_type": "code",
   "execution_count": 41,
   "id": "24f5e9d7",
   "metadata": {},
   "outputs": [],
   "source": [
    "#Method trying to create column SALE_PRICE_2 to contain SALE_PRICE IF_VAT_EXCLUDED = 1 and IF_VAT_EXCLUDED = 0 to contain SALE_PRICE * 1.13, 13% VAT added to the sale price\n",
    "\n",
    "#for var in enumerate(Property_Market_2010_2021['IF_VAT_EXCLUDED']) :\n",
    " #    if var == 1\n",
    "  #   Property_Market_2010_2021.at[i,'SALE_PRICE_2'] = Property_Market_2010_2021.at[i,'SALE_PRICE'] * 1.13\n",
    "   # if var == 0\n",
    "    # Property_Market_2010_2021.at[i,'SALE_PRICE_2'] = Property_Market_2010_2021.at[i,'SALE_PRICE']\n",
    "#Property_Market_2010_2021.head()"
   ]
  },
  {
   "cell_type": "code",
   "execution_count": 42,
   "id": "f4f7a4cf",
   "metadata": {},
   "outputs": [
    {
     "data": {
      "text/html": [
       "<div>\n",
       "<style scoped>\n",
       "    .dataframe tbody tr th:only-of-type {\n",
       "        vertical-align: middle;\n",
       "    }\n",
       "\n",
       "    .dataframe tbody tr th {\n",
       "        vertical-align: top;\n",
       "    }\n",
       "\n",
       "    .dataframe thead th {\n",
       "        text-align: right;\n",
       "    }\n",
       "</style>\n",
       "<table border=\"1\" class=\"dataframe\">\n",
       "  <thead>\n",
       "    <tr style=\"text-align: right;\">\n",
       "      <th></th>\n",
       "      <th>SALE_DATE</th>\n",
       "      <th>ADDRESS</th>\n",
       "      <th>COUNTY</th>\n",
       "      <th>SALE_PRICE</th>\n",
       "      <th>IF_MARKET_PRICE</th>\n",
       "      <th>IF_VAT_EXCLUDED</th>\n",
       "      <th>PROPERTY_DESC</th>\n",
       "      <th>YEAR</th>\n",
       "      <th>SALE_PRICE_2</th>\n",
       "    </tr>\n",
       "  </thead>\n",
       "  <tbody>\n",
       "    <tr>\n",
       "      <th>0</th>\n",
       "      <td>01/01/2010</td>\n",
       "      <td>5 Braemor Drive, Churchtown, Co.Dublin</td>\n",
       "      <td>Dublin</td>\n",
       "      <td>343000.0</td>\n",
       "      <td>0</td>\n",
       "      <td>0</td>\n",
       "      <td>Second-Hand Dwelling house /Apartment</td>\n",
       "      <td>2010</td>\n",
       "      <td>387590.0</td>\n",
       "    </tr>\n",
       "    <tr>\n",
       "      <th>1</th>\n",
       "      <td>03/01/2010</td>\n",
       "      <td>134 Ashewood Walk, Summerhill Lane, Portlaoise</td>\n",
       "      <td>Laois</td>\n",
       "      <td>185000.0</td>\n",
       "      <td>0</td>\n",
       "      <td>1</td>\n",
       "      <td>New Dwelling house /Apartment</td>\n",
       "      <td>2010</td>\n",
       "      <td>209050.0</td>\n",
       "    </tr>\n",
       "    <tr>\n",
       "      <th>2</th>\n",
       "      <td>04/01/2010</td>\n",
       "      <td>1 Meadow Avenue, Dundrum, Dublin 14</td>\n",
       "      <td>Dublin</td>\n",
       "      <td>438500.0</td>\n",
       "      <td>0</td>\n",
       "      <td>0</td>\n",
       "      <td>Second-Hand Dwelling house /Apartment</td>\n",
       "      <td>2010</td>\n",
       "      <td>495505.0</td>\n",
       "    </tr>\n",
       "    <tr>\n",
       "      <th>3</th>\n",
       "      <td>04/01/2010</td>\n",
       "      <td>1 The Haven, Mornington</td>\n",
       "      <td>Meath</td>\n",
       "      <td>400000.0</td>\n",
       "      <td>0</td>\n",
       "      <td>0</td>\n",
       "      <td>Second-Hand Dwelling house /Apartment</td>\n",
       "      <td>2010</td>\n",
       "      <td>452000.0</td>\n",
       "    </tr>\n",
       "    <tr>\n",
       "      <th>4</th>\n",
       "      <td>04/01/2010</td>\n",
       "      <td>11 Melville Heights, Kilkenny</td>\n",
       "      <td>Kilkenny</td>\n",
       "      <td>160000.0</td>\n",
       "      <td>0</td>\n",
       "      <td>0</td>\n",
       "      <td>Second-Hand Dwelling house /Apartment</td>\n",
       "      <td>2010</td>\n",
       "      <td>180800.0</td>\n",
       "    </tr>\n",
       "  </tbody>\n",
       "</table>\n",
       "</div>"
      ],
      "text/plain": [
       "    SALE_DATE                                         ADDRESS    COUNTY  \\\n",
       "0  01/01/2010          5 Braemor Drive, Churchtown, Co.Dublin    Dublin   \n",
       "1  03/01/2010  134 Ashewood Walk, Summerhill Lane, Portlaoise     Laois   \n",
       "2  04/01/2010             1 Meadow Avenue, Dundrum, Dublin 14    Dublin   \n",
       "3  04/01/2010                         1 The Haven, Mornington     Meath   \n",
       "4  04/01/2010                   11 Melville Heights, Kilkenny  Kilkenny   \n",
       "\n",
       "   SALE_PRICE  IF_MARKET_PRICE  IF_VAT_EXCLUDED  \\\n",
       "0    343000.0                0                0   \n",
       "1    185000.0                0                1   \n",
       "2    438500.0                0                0   \n",
       "3    400000.0                0                0   \n",
       "4    160000.0                0                0   \n",
       "\n",
       "                           PROPERTY_DESC  YEAR  SALE_PRICE_2  \n",
       "0  Second-Hand Dwelling house /Apartment  2010      387590.0  \n",
       "1          New Dwelling house /Apartment  2010      209050.0  \n",
       "2  Second-Hand Dwelling house /Apartment  2010      495505.0  \n",
       "3  Second-Hand Dwelling house /Apartment  2010      452000.0  \n",
       "4  Second-Hand Dwelling house /Apartment  2010      180800.0  "
      ]
     },
     "execution_count": 42,
     "metadata": {},
     "output_type": "execute_result"
    }
   ],
   "source": [
    "#Method trying to create column SALE_PRICE_2 to contain SALE_PRICE IF_VAT_EXCLUDED = 1 and IF_VAT_EXCLUDED = 0 to contain SALE_PRICE * 1.13, 13% VAT added to the sale price\n",
    "\n",
    "Property_Market_2010_2021['SALE_PRICE_2'] = Property_Market_2010_2021['SALE_PRICE_2'] = Property_Market_2010_2021['SALE_PRICE'] * 1.13\n",
    "Property_Market_2010_2021.head()\n",
    "#SALE_PRICE = original sale prince\n",
    "#SALE_PRICE_2 = price including 13% VAT for the vat excluded cells "
   ]
  },
  {
   "cell_type": "code",
   "execution_count": 43,
   "id": "26ad07d6",
   "metadata": {},
   "outputs": [],
   "source": [
    "#Method trying to create column SALE_PRICE_2 to contain SALE_PRICE IF_VAT_EXCLUDED = 1 and IF_VAT_EXCLUDED = 0 to contain SALE_PRICE * 1.13, 13% VAT added to the sale price\n",
    "\n",
    "\n",
    "#Property_Market_2010_2021['CORRECT_SALE_PRICE'] = \n",
    "  #  if  Property_Market_2010_2021['IF_VAT_EXCLUDED'] =1, print \n",
    "   # else "
   ]
  },
  {
   "cell_type": "code",
   "execution_count": 44,
   "id": "0d2c1eb8",
   "metadata": {},
   "outputs": [
    {
     "name": "stdout",
     "output_type": "stream",
     "text": [
      "SALE_DATE           object\n",
      "ADDRESS             object\n",
      "COUNTY              object\n",
      "SALE_PRICE         float64\n",
      "IF_MARKET_PRICE      int64\n",
      "IF_VAT_EXCLUDED     string\n",
      "PROPERTY_DESC       object\n",
      "YEAR                object\n",
      "SALE_PRICE_2       float64\n",
      "dtype: object\n"
     ]
    }
   ],
   "source": [
    "Property_Market_2010_2021 = Property_Market_2010_2021.astype({'IF_VAT_EXCLUDED':'string'})\n",
    "print(Property_Market_2010_2021.dtypes)\n",
    "\n",
    "#changed IF_VAT_EXCLUDED type from int to str"
   ]
  },
  {
   "cell_type": "code",
   "execution_count": 45,
   "id": "a4cd81cd",
   "metadata": {},
   "outputs": [],
   "source": [
    "#Method trying to drop IF_VAT_EXCLUDED =1\n",
    "\n",
    "prop_drop = \"1\"\n",
    "property_02 = Property_Market_2010_2021[~Property_Market_2010_2021[\"IF_VAT_EXCLUDED\"].\n",
    "                          str.contains(\"|\".join(prop_drop))] \n"
   ]
  },
  {
   "cell_type": "code",
   "execution_count": 46,
   "id": "88304250",
   "metadata": {},
   "outputs": [
    {
     "data": {
      "text/plain": [
       "(476745, 9)"
      ]
     },
     "execution_count": 46,
     "metadata": {},
     "output_type": "execute_result"
    }
   ],
   "source": [
    "Property_Market_2010_2021.shape\n",
    "#check to see if IF_VAT_EXCLUDED = 1 was excluded from dataset, uncessful "
   ]
  },
  {
   "cell_type": "code",
   "execution_count": 47,
   "id": "2cbb4a8d",
   "metadata": {},
   "outputs": [
    {
     "data": {
      "text/html": [
       "<div>\n",
       "<style scoped>\n",
       "    .dataframe tbody tr th:only-of-type {\n",
       "        vertical-align: middle;\n",
       "    }\n",
       "\n",
       "    .dataframe tbody tr th {\n",
       "        vertical-align: top;\n",
       "    }\n",
       "\n",
       "    .dataframe thead th {\n",
       "        text-align: right;\n",
       "    }\n",
       "</style>\n",
       "<table border=\"1\" class=\"dataframe\">\n",
       "  <thead>\n",
       "    <tr style=\"text-align: right;\">\n",
       "      <th></th>\n",
       "      <th>SALE_DATE</th>\n",
       "      <th>ADDRESS</th>\n",
       "      <th>COUNTY</th>\n",
       "      <th>SALE_PRICE</th>\n",
       "      <th>IF_MARKET_PRICE</th>\n",
       "      <th>IF_VAT_EXCLUDED</th>\n",
       "      <th>PROPERTY_DESC</th>\n",
       "      <th>YEAR</th>\n",
       "      <th>SALE_PRICE_2</th>\n",
       "    </tr>\n",
       "  </thead>\n",
       "  <tbody>\n",
       "    <tr>\n",
       "      <th>0</th>\n",
       "      <td>01/01/2010</td>\n",
       "      <td>5 Braemor Drive, Churchtown, Co.Dublin</td>\n",
       "      <td>Dublin</td>\n",
       "      <td>343000.0</td>\n",
       "      <td>0</td>\n",
       "      <td>0</td>\n",
       "      <td>Second-Hand Dwelling house /Apartment</td>\n",
       "      <td>2010</td>\n",
       "      <td>387590.0</td>\n",
       "    </tr>\n",
       "    <tr>\n",
       "      <th>1</th>\n",
       "      <td>03/01/2010</td>\n",
       "      <td>134 Ashewood Walk, Summerhill Lane, Portlaoise</td>\n",
       "      <td>Laois</td>\n",
       "      <td>185000.0</td>\n",
       "      <td>0</td>\n",
       "      <td>1</td>\n",
       "      <td>New Dwelling house /Apartment</td>\n",
       "      <td>2010</td>\n",
       "      <td>209050.0</td>\n",
       "    </tr>\n",
       "    <tr>\n",
       "      <th>2</th>\n",
       "      <td>04/01/2010</td>\n",
       "      <td>1 Meadow Avenue, Dundrum, Dublin 14</td>\n",
       "      <td>Dublin</td>\n",
       "      <td>438500.0</td>\n",
       "      <td>0</td>\n",
       "      <td>0</td>\n",
       "      <td>Second-Hand Dwelling house /Apartment</td>\n",
       "      <td>2010</td>\n",
       "      <td>495505.0</td>\n",
       "    </tr>\n",
       "    <tr>\n",
       "      <th>3</th>\n",
       "      <td>04/01/2010</td>\n",
       "      <td>1 The Haven, Mornington</td>\n",
       "      <td>Meath</td>\n",
       "      <td>400000.0</td>\n",
       "      <td>0</td>\n",
       "      <td>0</td>\n",
       "      <td>Second-Hand Dwelling house /Apartment</td>\n",
       "      <td>2010</td>\n",
       "      <td>452000.0</td>\n",
       "    </tr>\n",
       "    <tr>\n",
       "      <th>4</th>\n",
       "      <td>04/01/2010</td>\n",
       "      <td>11 Melville Heights, Kilkenny</td>\n",
       "      <td>Kilkenny</td>\n",
       "      <td>160000.0</td>\n",
       "      <td>0</td>\n",
       "      <td>0</td>\n",
       "      <td>Second-Hand Dwelling house /Apartment</td>\n",
       "      <td>2010</td>\n",
       "      <td>180800.0</td>\n",
       "    </tr>\n",
       "  </tbody>\n",
       "</table>\n",
       "</div>"
      ],
      "text/plain": [
       "    SALE_DATE                                         ADDRESS    COUNTY  \\\n",
       "0  01/01/2010          5 Braemor Drive, Churchtown, Co.Dublin    Dublin   \n",
       "1  03/01/2010  134 Ashewood Walk, Summerhill Lane, Portlaoise     Laois   \n",
       "2  04/01/2010             1 Meadow Avenue, Dundrum, Dublin 14    Dublin   \n",
       "3  04/01/2010                         1 The Haven, Mornington     Meath   \n",
       "4  04/01/2010                   11 Melville Heights, Kilkenny  Kilkenny   \n",
       "\n",
       "   SALE_PRICE  IF_MARKET_PRICE IF_VAT_EXCLUDED  \\\n",
       "0    343000.0                0               0   \n",
       "1    185000.0                0               1   \n",
       "2    438500.0                0               0   \n",
       "3    400000.0                0               0   \n",
       "4    160000.0                0               0   \n",
       "\n",
       "                           PROPERTY_DESC  YEAR  SALE_PRICE_2  \n",
       "0  Second-Hand Dwelling house /Apartment  2010      387590.0  \n",
       "1          New Dwelling house /Apartment  2010      209050.0  \n",
       "2  Second-Hand Dwelling house /Apartment  2010      495505.0  \n",
       "3  Second-Hand Dwelling house /Apartment  2010      452000.0  \n",
       "4  Second-Hand Dwelling house /Apartment  2010      180800.0  "
      ]
     },
     "execution_count": 47,
     "metadata": {},
     "output_type": "execute_result"
    }
   ],
   "source": [
    "Property_Market_2010_2021.head()\n",
    "#check to see if IF_VAT_EXCLUDED = 1 was excluded from dataset, uncessful"
   ]
  },
  {
   "cell_type": "code",
   "execution_count": 48,
   "id": "25c3627c",
   "metadata": {},
   "outputs": [],
   "source": [
    "Property_Market_2010_2021 = Property_Market_2010_2021[~Property_Market_2010_2021['IF_VAT_EXCLUDED'].astype(str).str.contains('1')]\n",
    "\n",
    "#'IF_VAT_EXCLUDED'= 1 (True) VAT is excluded from overall 'SALE_PRICE'\n",
    "#'IF_VAT_EXCLUDED'= 0 (False) VAT is included from overall 'SALE_PRICE'\n",
    "\n",
    "# Results will be based on property 'SALE_PRICE' that VAT was included."
   ]
  },
  {
   "cell_type": "code",
   "execution_count": 49,
   "id": "58c98651",
   "metadata": {},
   "outputs": [
    {
     "data": {
      "text/plain": [
       "(400648, 9)"
      ]
     },
     "execution_count": 49,
     "metadata": {},
     "output_type": "execute_result"
    }
   ],
   "source": [
    "Property_Market_2010_2021.shape\n",
    "#verifing \"IF_VAT_EXCLUDED\" = 1 rows of data removed from over all dataset\n",
    "#76,097 rows of data removed "
   ]
  },
  {
   "cell_type": "code",
   "execution_count": 50,
   "id": "7c0cdac5",
   "metadata": {},
   "outputs": [
    {
     "data": {
      "text/html": [
       "<div>\n",
       "<style scoped>\n",
       "    .dataframe tbody tr th:only-of-type {\n",
       "        vertical-align: middle;\n",
       "    }\n",
       "\n",
       "    .dataframe tbody tr th {\n",
       "        vertical-align: top;\n",
       "    }\n",
       "\n",
       "    .dataframe thead th {\n",
       "        text-align: right;\n",
       "    }\n",
       "</style>\n",
       "<table border=\"1\" class=\"dataframe\">\n",
       "  <thead>\n",
       "    <tr style=\"text-align: right;\">\n",
       "      <th></th>\n",
       "      <th>SALE_DATE</th>\n",
       "      <th>ADDRESS</th>\n",
       "      <th>COUNTY</th>\n",
       "      <th>SALE_PRICE</th>\n",
       "      <th>IF_MARKET_PRICE</th>\n",
       "      <th>IF_VAT_EXCLUDED</th>\n",
       "      <th>PROPERTY_DESC</th>\n",
       "      <th>YEAR</th>\n",
       "      <th>SALE_PRICE_2</th>\n",
       "    </tr>\n",
       "  </thead>\n",
       "  <tbody>\n",
       "    <tr>\n",
       "      <th>0</th>\n",
       "      <td>01/01/2010</td>\n",
       "      <td>5 Braemor Drive, Churchtown, Co.Dublin</td>\n",
       "      <td>Dublin</td>\n",
       "      <td>343000.0</td>\n",
       "      <td>0</td>\n",
       "      <td>0</td>\n",
       "      <td>Second-Hand Dwelling house /Apartment</td>\n",
       "      <td>2010</td>\n",
       "      <td>387590.0</td>\n",
       "    </tr>\n",
       "    <tr>\n",
       "      <th>2</th>\n",
       "      <td>04/01/2010</td>\n",
       "      <td>1 Meadow Avenue, Dundrum, Dublin 14</td>\n",
       "      <td>Dublin</td>\n",
       "      <td>438500.0</td>\n",
       "      <td>0</td>\n",
       "      <td>0</td>\n",
       "      <td>Second-Hand Dwelling house /Apartment</td>\n",
       "      <td>2010</td>\n",
       "      <td>495505.0</td>\n",
       "    </tr>\n",
       "    <tr>\n",
       "      <th>3</th>\n",
       "      <td>04/01/2010</td>\n",
       "      <td>1 The Haven, Mornington</td>\n",
       "      <td>Meath</td>\n",
       "      <td>400000.0</td>\n",
       "      <td>0</td>\n",
       "      <td>0</td>\n",
       "      <td>Second-Hand Dwelling house /Apartment</td>\n",
       "      <td>2010</td>\n",
       "      <td>452000.0</td>\n",
       "    </tr>\n",
       "    <tr>\n",
       "      <th>4</th>\n",
       "      <td>04/01/2010</td>\n",
       "      <td>11 Melville Heights, Kilkenny</td>\n",
       "      <td>Kilkenny</td>\n",
       "      <td>160000.0</td>\n",
       "      <td>0</td>\n",
       "      <td>0</td>\n",
       "      <td>Second-Hand Dwelling house /Apartment</td>\n",
       "      <td>2010</td>\n",
       "      <td>180800.0</td>\n",
       "    </tr>\n",
       "    <tr>\n",
       "      <th>5</th>\n",
       "      <td>04/01/2010</td>\n",
       "      <td>12 Sallymount Avenue, Ranelagh</td>\n",
       "      <td>Dublin</td>\n",
       "      <td>425000.0</td>\n",
       "      <td>0</td>\n",
       "      <td>0</td>\n",
       "      <td>Second-Hand Dwelling house /Apartment</td>\n",
       "      <td>2010</td>\n",
       "      <td>480250.0</td>\n",
       "    </tr>\n",
       "  </tbody>\n",
       "</table>\n",
       "</div>"
      ],
      "text/plain": [
       "    SALE_DATE                                 ADDRESS    COUNTY  SALE_PRICE  \\\n",
       "0  01/01/2010  5 Braemor Drive, Churchtown, Co.Dublin    Dublin    343000.0   \n",
       "2  04/01/2010     1 Meadow Avenue, Dundrum, Dublin 14    Dublin    438500.0   \n",
       "3  04/01/2010                 1 The Haven, Mornington     Meath    400000.0   \n",
       "4  04/01/2010           11 Melville Heights, Kilkenny  Kilkenny    160000.0   \n",
       "5  04/01/2010          12 Sallymount Avenue, Ranelagh    Dublin    425000.0   \n",
       "\n",
       "   IF_MARKET_PRICE IF_VAT_EXCLUDED                          PROPERTY_DESC  \\\n",
       "0                0               0  Second-Hand Dwelling house /Apartment   \n",
       "2                0               0  Second-Hand Dwelling house /Apartment   \n",
       "3                0               0  Second-Hand Dwelling house /Apartment   \n",
       "4                0               0  Second-Hand Dwelling house /Apartment   \n",
       "5                0               0  Second-Hand Dwelling house /Apartment   \n",
       "\n",
       "   YEAR  SALE_PRICE_2  \n",
       "0  2010      387590.0  \n",
       "2  2010      495505.0  \n",
       "3  2010      452000.0  \n",
       "4  2010      180800.0  \n",
       "5  2010      480250.0  "
      ]
     },
     "execution_count": 50,
     "metadata": {},
     "output_type": "execute_result"
    }
   ],
   "source": [
    "Property_Market_2010_2021.head()\n",
    "#verifing \"IF_VAT_EXCLUDED\" = 1 in row 2 was removed from dataset, 'ADDRESS' 134 Ashewood walk, portlaoise\n",
    "\n",
    "\n",
    " "
   ]
  },
  {
   "cell_type": "code",
   "execution_count": 51,
   "id": "d803f35f",
   "metadata": {},
   "outputs": [
    {
     "data": {
      "image/png": "[encoded data removed]",
      "text/plain": [
       "<Figure size 864x864 with 1 Axes>"
      ]
     },
     "metadata": {
      "needs_background": "light"
     },
     "output_type": "display_data"
    }
   ],
   "source": [
    "# Count of properties sold per year.\n",
    "\n",
    "plt.figure(figsize=(12,12))\n",
    "sns.set(style=\"darkgrid\")\n",
    "ax = sns.countplot(y=\"YEAR\", data=Property_Market_2010_2021, palette=(\"Set3\"), order=Property_Market_2010_2021['YEAR'].value_counts().index[0:15])\n",
    "plt.title('Number of Properties sold each year', fontsize=15, color='Blue')\n",
    "plt.ylabel('Year of Sale')\n",
    "plt.xlabel('Number of Propertie')\n",
    "plt.show()\n"
   ]
  },
  {
   "cell_type": "code",
   "execution_count": null,
   "id": "5ba84bc6",
   "metadata": {},
   "outputs": [],
   "source": []
  },
  {
   "cell_type": "code",
   "execution_count": 52,
   "id": "99306d52",
   "metadata": {},
   "outputs": [
    {
     "data": {
      "text/plain": [
       "400648"
      ]
     },
     "execution_count": 52,
     "metadata": {},
     "output_type": "execute_result"
    }
   ],
   "source": [
    "Property_Market_2010_2021.COUNTY.count()\n",
    "#trying to identify the number of counties, unsucessful "
   ]
  },
  {
   "cell_type": "code",
   "execution_count": 53,
   "id": "229e24f0",
   "metadata": {},
   "outputs": [],
   "source": [
    "#Property_Market_2010_2021.['COUNTY'].count()\n",
    "\n",
    "#trying to identify the number of counties, unsucessful "
   ]
  },
  {
   "cell_type": "code",
   "execution_count": 54,
   "id": "311fa212",
   "metadata": {},
   "outputs": [
    {
     "data": {
      "text/plain": [
       "26"
      ]
     },
     "execution_count": 54,
     "metadata": {},
     "output_type": "execute_result"
    }
   ],
   "source": [
    "Property_Market_2010_2021.COUNTY.nunique()\n",
    "#26 counties identified, sucessful "
   ]
  },
  {
   "cell_type": "code",
   "execution_count": 55,
   "id": "ab84fead",
   "metadata": {},
   "outputs": [
    {
     "data": {
      "text/plain": [
       "YEAR\n",
       "2010    15786\n",
       "2011    15583\n",
       "2012    22320\n",
       "2013    26408\n",
       "2014    38316\n",
       "2015    43011\n",
       "2016    43142\n",
       "2017    45762\n",
       "2018    46470\n",
       "2019    47659\n",
       "2020    39930\n",
       "2021    16261\n",
       "Name: COUNTY, dtype: int64"
      ]
     },
     "execution_count": 55,
     "metadata": {},
     "output_type": "execute_result"
    }
   ],
   "source": [
    "Property_Market_2010_2021.groupby(['YEAR'])['COUNTY'].count()\n",
    "#Number of houses sold in Ireland per year 2010-2021"
   ]
  },
  {
   "cell_type": "code",
   "execution_count": 56,
   "id": "92327300",
   "metadata": {},
   "outputs": [
    {
     "data": {
      "text/plain": [
       "COUNTY\n",
       "Carlow         4395\n",
       "Cavan          6271\n",
       "Clare          9790\n",
       "Cork          44016\n",
       "Donegal       11780\n",
       "Dublin       125816\n",
       "Galway        21173\n",
       "Kerry         12316\n",
       "Kildare       17173\n",
       "Kilkenny       6673\n",
       "Laois          6078\n",
       "Leitrim        3665\n",
       "Limerick      15869\n",
       "Longford       3596\n",
       "Louth         10189\n",
       "Mayo          10332\n",
       "Meath         13641\n",
       "Monaghan       3147\n",
       "Offaly         5224\n",
       "Roscommon      6057\n",
       "Sligo          6175\n",
       "Tipperary     11797\n",
       "Waterford     11197\n",
       "Westmeath      8341\n",
       "Wexford       14123\n",
       "Wicklow       11814\n",
       "Name: YEAR, dtype: int64"
      ]
     },
     "execution_count": 56,
     "metadata": {},
     "output_type": "execute_result"
    }
   ],
   "source": [
    "Property_Market_2010_2021.groupby(['COUNTY'])['YEAR'].count()\n",
    "#Number of houses sold per county 2010-2021\n"
   ]
  },
  {
   "cell_type": "code",
   "execution_count": 57,
   "id": "0bd1edc0",
   "metadata": {},
   "outputs": [
    {
     "data": {
      "text/plain": [
       "COUNTY\n",
       "Carlow         4395\n",
       "Cavan          6271\n",
       "Clare          9790\n",
       "Cork          44016\n",
       "Donegal       11780\n",
       "Dublin       125816\n",
       "Galway        21173\n",
       "Kerry         12316\n",
       "Kildare       17173\n",
       "Kilkenny       6673\n",
       "Laois          6078\n",
       "Leitrim        3665\n",
       "Limerick      15869\n",
       "Longford       3596\n",
       "Louth         10189\n",
       "Mayo          10332\n",
       "Meath         13641\n",
       "Monaghan       3147\n",
       "Offaly         5224\n",
       "Roscommon      6057\n",
       "Sligo          6175\n",
       "Tipperary     11797\n",
       "Waterford     11197\n",
       "Westmeath      8341\n",
       "Wexford       14123\n",
       "Wicklow       11814\n",
       "dtype: int64"
      ]
     },
     "metadata": {},
     "output_type": "display_data"
    },
    {
     "data": {
      "text/plain": [
       "YEAR\n",
       "2010    15786\n",
       "2011    15583\n",
       "2012    22320\n",
       "2013    26408\n",
       "2014    38316\n",
       "2015    43011\n",
       "2016    43142\n",
       "2017    45762\n",
       "2018    46470\n",
       "2019    47659\n",
       "2020    39930\n",
       "2021    16261\n",
       "dtype: int64"
      ]
     },
     "metadata": {},
     "output_type": "display_data"
    }
   ],
   "source": [
    "# count occurrences of number of properties sold per county\n",
    "data1 = Property_Market_2010_2021.groupby(['COUNTY']).size()\n",
    " \n",
    "# display occurrences\n",
    "display(data1)\n",
    " \n",
    "# count occurrences of number of properties sold per year\n",
    "data2= Property_Market_2010_2021.groupby(['YEAR']).size()\n",
    " \n",
    "# display occurrences \n",
    "display(data2)"
   ]
  },
  {
   "cell_type": "code",
   "execution_count": null,
   "id": "fd9f5c5c",
   "metadata": {},
   "outputs": [],
   "source": []
  },
  {
   "cell_type": "code",
   "execution_count": null,
   "id": "7c3d31d2",
   "metadata": {},
   "outputs": [],
   "source": [
    "\n"
   ]
  },
  {
   "cell_type": "code",
   "execution_count": 58,
   "id": "946e926a",
   "metadata": {},
   "outputs": [
    {
     "data": {
      "text/plain": [
       "Text(0.5, 0, 'Year of Sale')"
      ]
     },
     "execution_count": 58,
     "metadata": {},
     "output_type": "execute_result"
    },
    {
     "data": {
      "image/png": "[encoded data removed]",
      "text/plain": [
       "<Figure size 1440x1440 with 30 Axes>"
      ]
     },
     "metadata": {},
     "output_type": "display_data"
    }
   ],
   "source": [
    "Property_Market_2010_2021.hist(column='YEAR', by='COUNTY', bins=11, grid=False, rwidth=3,\n",
    "        color='purple', sharex=True, figsize = (20,20))\n",
    "plt.xlabel('Year of Sale')\n",
    "\n",
    "#Plot of all counties and the number of sales each year "
   ]
  },
  {
   "cell_type": "code",
   "execution_count": 59,
   "id": "538c6376",
   "metadata": {},
   "outputs": [
    {
     "data": {
      "text/plain": [
       "array([[<AxesSubplot:title={'center':'Carlow'}>,\n",
       "        <AxesSubplot:title={'center':'Cavan'}>,\n",
       "        <AxesSubplot:title={'center':'Clare'}>,\n",
       "        <AxesSubplot:title={'center':'Cork'}>,\n",
       "        <AxesSubplot:title={'center':'Donegal'}>],\n",
       "       [<AxesSubplot:title={'center':'Dublin'}>,\n",
       "        <AxesSubplot:title={'center':'Galway'}>,\n",
       "        <AxesSubplot:title={'center':'Kerry'}>,\n",
       "        <AxesSubplot:title={'center':'Kildare'}>,\n",
       "        <AxesSubplot:title={'center':'Kilkenny'}>],\n",
       "       [<AxesSubplot:title={'center':'Laois'}>,\n",
       "        <AxesSubplot:title={'center':'Leitrim'}>,\n",
       "        <AxesSubplot:title={'center':'Limerick'}>,\n",
       "        <AxesSubplot:title={'center':'Longford'}>,\n",
       "        <AxesSubplot:title={'center':'Louth'}>],\n",
       "       [<AxesSubplot:title={'center':'Mayo'}>,\n",
       "        <AxesSubplot:title={'center':'Meath'}>,\n",
       "        <AxesSubplot:title={'center':'Monaghan'}>,\n",
       "        <AxesSubplot:title={'center':'Offaly'}>,\n",
       "        <AxesSubplot:title={'center':'Roscommon'}>],\n",
       "       [<AxesSubplot:title={'center':'Sligo'}>,\n",
       "        <AxesSubplot:title={'center':'Tipperary'}>,\n",
       "        <AxesSubplot:title={'center':'Waterford'}>,\n",
       "        <AxesSubplot:title={'center':'Westmeath'}>,\n",
       "        <AxesSubplot:title={'center':'Wexford'}>],\n",
       "       [<AxesSubplot:title={'center':'Wicklow'}>, <AxesSubplot:>,\n",
       "        <AxesSubplot:>, <AxesSubplot:>, <AxesSubplot:>]], dtype=object)"
      ]
     },
     "execution_count": 59,
     "metadata": {},
     "output_type": "execute_result"
    },
    {
     "name": "stderr",
     "output_type": "stream",
     "text": [
      "C:\\Users\\mcloukx1\\Anaconda3\\lib\\site-packages\\matplotlib\\backends\\backend_agg.py:238: RuntimeWarning: Glyph 65533 missing from current font.\n",
      "  font.set_text(s, 0.0, flags=flags)\n",
      "C:\\Users\\mcloukx1\\Anaconda3\\lib\\site-packages\\matplotlib\\backends\\backend_agg.py:201: RuntimeWarning: Glyph 65533 missing from current font.\n",
      "  font.set_text(s, 0, flags=flags)\n"
     ]
    },
    {
     "data": {
      "image/png": "[encoded data removed]",
      "text/plain": [
       "<Figure size 1440x1440 with 30 Axes>"
      ]
     },
     "metadata": {},
     "output_type": "display_data"
    }
   ],
   "source": [
    "Property_Market_2010_2021.hist(column='PROPERTY_DESC', by='COUNTY', bins=11, grid=False, rwidth=3,\n",
    "        color='purple', sharex=True, figsize = (20,20))\n"
   ]
  },
  {
   "cell_type": "code",
   "execution_count": 60,
   "id": "6db56b41",
   "metadata": {},
   "outputs": [
    {
     "data": {
      "text/plain": [
       "array([[<AxesSubplot:title={'center':'Carlow'}>,\n",
       "        <AxesSubplot:title={'center':'Cavan'}>,\n",
       "        <AxesSubplot:title={'center':'Clare'}>,\n",
       "        <AxesSubplot:title={'center':'Cork'}>,\n",
       "        <AxesSubplot:title={'center':'Donegal'}>],\n",
       "       [<AxesSubplot:title={'center':'Dublin'}>,\n",
       "        <AxesSubplot:title={'center':'Galway'}>,\n",
       "        <AxesSubplot:title={'center':'Kerry'}>,\n",
       "        <AxesSubplot:title={'center':'Kildare'}>,\n",
       "        <AxesSubplot:title={'center':'Kilkenny'}>],\n",
       "       [<AxesSubplot:title={'center':'Laois'}>,\n",
       "        <AxesSubplot:title={'center':'Leitrim'}>,\n",
       "        <AxesSubplot:title={'center':'Limerick'}>,\n",
       "        <AxesSubplot:title={'center':'Longford'}>,\n",
       "        <AxesSubplot:title={'center':'Louth'}>],\n",
       "       [<AxesSubplot:title={'center':'Mayo'}>,\n",
       "        <AxesSubplot:title={'center':'Meath'}>,\n",
       "        <AxesSubplot:title={'center':'Monaghan'}>,\n",
       "        <AxesSubplot:title={'center':'Offaly'}>,\n",
       "        <AxesSubplot:title={'center':'Roscommon'}>],\n",
       "       [<AxesSubplot:title={'center':'Sligo'}>,\n",
       "        <AxesSubplot:title={'center':'Tipperary'}>,\n",
       "        <AxesSubplot:title={'center':'Waterford'}>,\n",
       "        <AxesSubplot:title={'center':'Westmeath'}>,\n",
       "        <AxesSubplot:title={'center':'Wexford'}>],\n",
       "       [<AxesSubplot:title={'center':'Wicklow'}>, <AxesSubplot:>,\n",
       "        <AxesSubplot:>, <AxesSubplot:>, <AxesSubplot:>]], dtype=object)"
      ]
     },
     "execution_count": 60,
     "metadata": {},
     "output_type": "execute_result"
    },
    {
     "data": {
      "image/png": "[encoded data removed]",
      "text/plain": [
       "<Figure size 1440x1440 with 30 Axes>"
      ]
     },
     "metadata": {},
     "output_type": "display_data"
    }
   ],
   "source": [
    "DS1.hist(column='PROPERTY_DESC', by='COUNTY', bins=11, grid=False, rwidth=3,\n",
    "        color='purple', sharex=True, figsize = (20,20))\n"
   ]
  },
  {
   "cell_type": "code",
   "execution_count": 61,
   "id": "d8d7c512",
   "metadata": {},
   "outputs": [
    {
     "data": {
      "text/plain": [
       "PROPERTY_DESC\n",
       "New Dwelling house /Apartment              1578\n",
       "Second-Hand Dwelling house /Apartment    399039\n",
       "Teach/�ras�n C�naithe Ath�imhe               31\n",
       "dtype: int64"
      ]
     },
     "metadata": {},
     "output_type": "display_data"
    },
    {
     "data": {
      "text/plain": [
       "PROPERTY_DESC\n",
       "New Dwelling house /Apartment             77672\n",
       "Second-Hand Dwelling house /Apartment    399039\n",
       "Teach/?ras?n C?naithe Nua                     1\n",
       "Teach/�ras�n C�naithe Ath�imhe               31\n",
       "Teach/�ras�n C�naithe Nua                     2\n",
       "dtype: int64"
      ]
     },
     "metadata": {},
     "output_type": "display_data"
    }
   ],
   "source": [
    "# count occurrences of number of properties sold per county\n",
    "data3 = Property_Market_2010_2021.groupby(['PROPERTY_DESC']).size()\n",
    " \n",
    "# display occurrences\n",
    "display(data3)\n",
    " \n",
    "# count occurrences of number of properties sold per year\n",
    "data4= DS1.groupby(['PROPERTY_DESC']).size()\n",
    " \n",
    "# display occurrences \n",
    "display(data4)"
   ]
  },
  {
   "cell_type": "code",
   "execution_count": 62,
   "id": "6b9cbd2d",
   "metadata": {},
   "outputs": [
    {
     "name": "stdout",
     "output_type": "stream",
     "text": [
      "         SALE_DATE                                            ADDRESS  COUNTY  \\\n",
      "316169  22/06/2018  COMMERCIAL PROPERTY AND, 423 RESI UNITS AT CLA...  Dublin   \n",
      "\n",
      "         SALE_PRICE  IF_MARKET_PRICE IF_VAT_EXCLUDED  \\\n",
      "316169  139165000.0                1               0   \n",
      "\n",
      "                                PROPERTY_DESC  YEAR  SALE_PRICE_2  \n",
      "316169  Second-Hand Dwelling house /Apartment  2018   157256450.0  \n"
     ]
    }
   ],
   "source": [
    "print(Property_Market_2010_2021[Property_Market_2010_2021.SALE_PRICE == Property_Market_2010_2021.SALE_PRICE.max()])\n",
    "#Most expensive property sold in Irleand between 2010 and 2021"
   ]
  },
  {
   "cell_type": "code",
   "execution_count": 63,
   "id": "2a12902b",
   "metadata": {},
   "outputs": [
    {
     "name": "stdout",
     "output_type": "stream",
     "text": [
      "         SALE_DATE                     ADDRESS COUNTY  SALE_PRICE  \\\n",
      "358664  11/03/2019  COULAGHARD, EYERIES, BEARA   Cork     5030.53   \n",
      "\n",
      "        IF_MARKET_PRICE IF_VAT_EXCLUDED  \\\n",
      "358664                0               0   \n",
      "\n",
      "                                PROPERTY_DESC  YEAR  SALE_PRICE_2  \n",
      "358664  Second-Hand Dwelling house /Apartment  2019     5684.4989  \n"
     ]
    }
   ],
   "source": [
    "print(Property_Market_2010_2021[Property_Market_2010_2021.SALE_PRICE == Property_Market_2010_2021.SALE_PRICE.min()])\n",
    "#Least expensive property sold in Irleand between 2010 and 2021"
   ]
  },
  {
   "cell_type": "code",
   "execution_count": 64,
   "id": "f9c61eb9",
   "metadata": {},
   "outputs": [
    {
     "data": {
      "image/png": "[encoded data removed]",
      "text/plain": [
       "<Figure size 432x288 with 1 Axes>"
      ]
     },
     "metadata": {},
     "output_type": "display_data"
    }
   ],
   "source": [
    "plt.scatter(Property_Market_2010_2021['YEAR'], Property_Market_2010_2021['SALE_PRICE'], s=2,)\n",
    "plt.title('Price of property per year', fontsize=15, color='Blue', )\n",
    "plt.ylabel('Price of Property,€1x10^8')\n",
    "plt.xlabel('Year')\n",
    "plt.show()\n",
    "#year vs sale price "
   ]
  },
  {
   "cell_type": "code",
   "execution_count": 65,
   "id": "b7181817",
   "metadata": {},
   "outputs": [
    {
     "data": {
      "image/png": "[encoded data removed]",
      "text/plain": [
       "<Figure size 432x288 with 1 Axes>"
      ]
     },
     "metadata": {},
     "output_type": "display_data"
    }
   ],
   "source": [
    "plt.scatter(Property_Market_2010_2021['COUNTY'], Property_Market_2010_2021['SALE_PRICE'], s=2)\n",
    "plt.show()\n",
    "#county vs sale price \n",
    "#unable to make out county names"
   ]
  },
  {
   "cell_type": "code",
   "execution_count": 66,
   "id": "a5a79778",
   "metadata": {},
   "outputs": [
    {
     "data": {
      "image/png": "[encoded data removed]",
      "text/plain": [
       "<Figure size 432x288 with 1 Axes>"
      ]
     },
     "metadata": {},
     "output_type": "display_data"
    }
   ],
   "source": [
    "plt.scatter(Property_Market_2010_2021['SALE_PRICE'], Property_Market_2010_2021['YEAR'], s=2)\n",
    "plt.show()\n",
    "#county vs sale price \n",
    "#unable to make out county names\n",
    "#year vs sale price "
   ]
  },
  {
   "cell_type": "code",
   "execution_count": 67,
   "id": "5f37fcd7",
   "metadata": {},
   "outputs": [
    {
     "data": {
      "image/png": "[encoded data removed]",
      "text/plain": [
       "<Figure size 432x288 with 1 Axes>"
      ]
     },
     "metadata": {},
     "output_type": "display_data"
    }
   ],
   "source": [
    "plt.scatter(Property_Market_2010_2021['SALE_PRICE'], Property_Market_2010_2021['COUNTY'], s=3)\n",
    "plt.title('Price of property per county', fontsize=15, color='Blue', )\n",
    "plt.ylabel('County')\n",
    "plt.xlabel('Price of Property,€1x10^8')\n",
    "plt.show()\n",
    "#county vs sale price \n",
    "#unable to make out county names"
   ]
  },
  {
   "cell_type": "code",
   "execution_count": null,
   "id": "45566821",
   "metadata": {},
   "outputs": [],
   "source": []
  },
  {
   "cell_type": "code",
   "execution_count": 68,
   "id": "bc13e023",
   "metadata": {},
   "outputs": [
    {
     "data": {
      "text/plain": [
       "COUNTY\n",
       "Carlow       146967.201379\n",
       "Cavan        118894.586916\n",
       "Clare        156306.398979\n",
       "Cork         223051.133320\n",
       "Donegal      113453.599535\n",
       "Dublin       407630.741103\n",
       "Galway       201709.548998\n",
       "Kerry        156230.503701\n",
       "Kildare      255410.135523\n",
       "Kilkenny     182124.482927\n",
       "Laois        148643.724441\n",
       "Leitrim      101174.021735\n",
       "Limerick     163169.555191\n",
       "Longford      96286.616363\n",
       "Louth        176037.177507\n",
       "Mayo         126305.414110\n",
       "Meath        227936.540104\n",
       "Monaghan     124524.916479\n",
       "Offaly       138292.004121\n",
       "Roscommon    103578.067629\n",
       "Sligo        133071.825245\n",
       "Tipperary    136474.900703\n",
       "Waterford    152996.701445\n",
       "Westmeath    151381.481294\n",
       "Wexford      157383.550207\n",
       "Wicklow      308684.894268\n",
       "Name: SALE_PRICE, dtype: float64"
      ]
     },
     "execution_count": 68,
     "metadata": {},
     "output_type": "execute_result"
    }
   ],
   "source": [
    "Property_Market_2010_2021_grp = Property_Market_2010_2021.groupby('COUNTY').mean()['SALE_PRICE']\n",
    "Property_Market_2010_2021_grp\n"
   ]
  },
  {
   "cell_type": "code",
   "execution_count": 69,
   "id": "12e3d331",
   "metadata": {},
   "outputs": [],
   "source": [
    "#sns.scatterplot(x=Property_Market_2010_2021['YEAR'],y=Property_Market_2010_2021['SALE_PRICE'], data=Property_Market_2010_2021, hue='PROPERTY_DESC')"
   ]
  },
  {
   "cell_type": "code",
   "execution_count": 70,
   "id": "dfecd7be",
   "metadata": {},
   "outputs": [
    {
     "data": {
      "text/plain": [
       "(array([3., 4., 3., 7., 1., 2., 1., 0., 2., 0., 1., 0., 0., 1., 0., 0., 0.,\n",
       "        0., 0., 1.]),\n",
       " array([ 96286.61636263, 111853.82259967, 127421.02883671, 142988.23507375,\n",
       "        158555.44131079, 174122.64754783, 189689.85378487, 205257.06002191,\n",
       "        220824.26625895, 236391.47249599, 251958.67873303, 267525.88497007,\n",
       "        283093.09120711, 298660.29744415, 314227.50368119, 329794.70991823,\n",
       "        345361.91615527, 360929.12239231, 376496.32862935, 392063.53486639,\n",
       "        407630.74110343]),\n",
       " <BarContainer object of 20 artists>)"
      ]
     },
     "execution_count": 70,
     "metadata": {},
     "output_type": "execute_result"
    },
    {
     "data": {
      "image/png": "[encoded data removed]",
      "text/plain": [
       "<Figure size 432x288 with 1 Axes>"
      ]
     },
     "metadata": {},
     "output_type": "display_data"
    }
   ],
   "source": [
    "plt.hist(Property_Market_2010_2021_grp, bins = 20)\n"
   ]
  },
  {
   "cell_type": "code",
   "execution_count": null,
   "id": "cdde776b",
   "metadata": {},
   "outputs": [],
   "source": [
    "sns.pairplot(Property_Market_2010_2021, hue='COUNTY')"
   ]
  },
  {
   "cell_type": "code",
   "execution_count": null,
   "id": "9d7f7d2e",
   "metadata": {},
   "outputs": [],
   "source": [
    "#sns.scatterplot(x='YEAR',y='SALE_PRICE'.mean(), data=Property_Market_2010_2021, hue='COUNTY')"
   ]
  },
  {
   "cell_type": "code",
   "execution_count": null,
   "id": "2bade5a1",
   "metadata": {},
   "outputs": [],
   "source": [
    "sns.lineplot(data=Property_Market_2010_2021, y='SALE_PRICE', x='YEAR', hue='COUNTY',)"
   ]
  },
  {
   "cell_type": "code",
   "execution_count": null,
   "id": "8b30b9db",
   "metadata": {},
   "outputs": [],
   "source": []
  }
 ],
 "metadata": {
  "kernelspec": {
   "display_name": "Python 3",
   "language": "python",
   "name": "python3"
  },
  "language_info": {
   "codemirror_mode": {
    "name": "ipython",
    "version": 3
   },
   "file_extension": ".py",
   "mimetype": "text/x-python",
   "name": "python",
   "nbconvert_exporter": "python",
   "pygments_lexer": "ipython3",
   "version": "3.8.8"
  }
 },
 "nbformat": 4,
 "nbformat_minor": 5
}
